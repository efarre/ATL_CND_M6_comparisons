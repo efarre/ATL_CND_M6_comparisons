{
 "cells": [
  {
   "cell_type": "code",
   "execution_count": null,
   "id": "6e16a502-68e8-49bc-a0cd-3c1989664aa6",
   "metadata": {},
   "outputs": [],
   "source": [
    "library(dplyr)\n",
    "library(rio) #great for exporting, importing\n",
    "library (stringr)\n",
    "library(cowplot)\n",
    "library(tidyr)\n",
    "library(ggpubr)\n",
    "\n",
    "library(readxl)\n",
    "library(patchwork)\n",
    "library(RColorBrewer)\n",
    "library(viridis)\n",
    "library(ggvenn)\n",
    "library(gridExtra)"
   ]
  },
  {
   "cell_type": "markdown",
   "id": "1cffa866-7275-4364-8b3e-1c6a969f52c8",
   "metadata": {},
   "source": [
    "Original data files are from the seiko server: \n",
    "\n",
    "/home/farre/Ann/RNAseq/combined_files_for_PCA/within_species/diel/chc_leaf_diel_outfile.csv \n",
    "\n",
    "/home/farre/Ann/RNAseq/combined_files_for_PCA/within_species/diel/cnd_leaf_diel_outfile.csv \n",
    "\n",
    "/home/farre/Ann/RNAseq/combined_files_for_PCA/within_species/diel/atl_leaf_diel_outfile.csv \n",
    "\n",
    "NOTE:\n",
    "\n",
    "CHC long day data: 11PM (ZT16) and 1 AM (ZT18) sets are switched"
   ]
  },
  {
   "cell_type": "code",
   "execution_count": 2,
   "id": "160d61ba-9e32-413d-809f-a747dee47409",
   "metadata": {},
   "outputs": [
    {
     "data": {
      "text/html": [
       "<style>\n",
       ".list-inline {list-style: none; margin:0; padding: 0}\n",
       ".list-inline>li {display: inline-block}\n",
       ".list-inline>li:not(:last-child)::after {content: \"\\00b7\"; padding: 0 .5ex}\n",
       "</style>\n",
       "<ol class=list-inline><li>'atl_diel_correlations'</li><li>'atl_diel_outfile.csv'</li><li>'atl_leaf_diel_outfile.csv'</li><li>'chc_leaf_diel_outfile.csv'</li><li>'cnd_leaf_diel_outfile.csv'</li><li>'metacycle_output'</li></ol>\n"
      ],
      "text/latex": [
       "\\begin{enumerate*}\n",
       "\\item 'atl\\_diel\\_correlations'\n",
       "\\item 'atl\\_diel\\_outfile.csv'\n",
       "\\item 'atl\\_leaf\\_diel\\_outfile.csv'\n",
       "\\item 'chc\\_leaf\\_diel\\_outfile.csv'\n",
       "\\item 'cnd\\_leaf\\_diel\\_outfile.csv'\n",
       "\\item 'metacycle\\_output'\n",
       "\\end{enumerate*}\n"
      ],
      "text/markdown": [
       "1. 'atl_diel_correlations'\n",
       "2. 'atl_diel_outfile.csv'\n",
       "3. 'atl_leaf_diel_outfile.csv'\n",
       "4. 'chc_leaf_diel_outfile.csv'\n",
       "5. 'cnd_leaf_diel_outfile.csv'\n",
       "6. 'metacycle_output'\n",
       "\n",
       "\n"
      ],
      "text/plain": [
       "[1] \"atl_diel_correlations\"     \"atl_diel_outfile.csv\"     \n",
       "[3] \"atl_leaf_diel_outfile.csv\" \"chc_leaf_diel_outfile.csv\"\n",
       "[5] \"cnd_leaf_diel_outfile.csv\" \"metacycle_output\"         "
      ]
     },
     "metadata": {},
     "output_type": "display_data"
    }
   ],
   "source": [
    "setwd(\"~/Dropbox/Potato/RNA-seq_2/RNAseq_analysis/Data/DEseq/combined_files_for_PCA/within_species\")\n",
    "list.files()"
   ]
  },
  {
   "cell_type": "code",
   "execution_count": 3,
   "id": "139859e2-5f88-44c4-abbc-0cbbd3ce22c7",
   "metadata": {},
   "outputs": [
    {
     "data": {
      "text/html": [
       "<style>\n",
       ".list-inline {list-style: none; margin:0; padding: 0}\n",
       ".list-inline>li {display: inline-block}\n",
       ".list-inline>li:not(:last-child)::after {content: \"\\00b7\"; padding: 0 .5ex}\n",
       "</style>\n",
       "<ol class=list-inline><li>'chc_leaf_diel_outfile.csv'</li><li>'cnd_leaf_diel_outfile.csv'</li><li>'atl_leaf_diel_outfile.csv'</li></ol>\n"
      ],
      "text/latex": [
       "\\begin{enumerate*}\n",
       "\\item 'chc\\_leaf\\_diel\\_outfile.csv'\n",
       "\\item 'cnd\\_leaf\\_diel\\_outfile.csv'\n",
       "\\item 'atl\\_leaf\\_diel\\_outfile.csv'\n",
       "\\end{enumerate*}\n"
      ],
      "text/markdown": [
       "1. 'chc_leaf_diel_outfile.csv'\n",
       "2. 'cnd_leaf_diel_outfile.csv'\n",
       "3. 'atl_leaf_diel_outfile.csv'\n",
       "\n",
       "\n"
      ],
      "text/plain": [
       "[1] \"chc_leaf_diel_outfile.csv\" \"cnd_leaf_diel_outfile.csv\"\n",
       "[3] \"atl_leaf_diel_outfile.csv\""
      ]
     },
     "metadata": {},
     "output_type": "display_data"
    },
    {
     "data": {
      "text/html": [
       "3"
      ],
      "text/latex": [
       "3"
      ],
      "text/markdown": [
       "3"
      ],
      "text/plain": [
       "[1] 3"
      ]
     },
     "metadata": {},
     "output_type": "display_data"
    }
   ],
   "source": [
    "## Make list of files to import\n",
    "#:::::::::::::::::::::::::::::::\n",
    "\n",
    "#Make list of file names of CND and M6 data\n",
    "files_list <-  c('chc_leaf_diel_outfile.csv','cnd_leaf_diel_outfile.csv','atl_leaf_diel_outfile.csv')\n",
    "files_list\n",
    "length(files_list)"
   ]
  },
  {
   "cell_type": "code",
   "execution_count": 4,
   "id": "bef652bd-f2c6-41e7-8f9f-e6104d09c6b2",
   "metadata": {},
   "outputs": [],
   "source": [
    "#Import files as a list of dataframes\n",
    "dataframes<-lapply(1:length(files_list), function(i) { i <-  import(file = files_list[[i]], \n",
    "                                                         sep =',', header = TRUE, fill = TRUE )})"
   ]
  },
  {
   "cell_type": "code",
   "execution_count": 5,
   "id": "83a50692-4c42-46ea-ae17-7ebcb6443a67",
   "metadata": {},
   "outputs": [
    {
     "data": {
      "text/html": [
       "<table class=\"dataframe\">\n",
       "<caption>A data.frame: 5 × 76</caption>\n",
       "<thead>\n",
       "\t<tr><th></th><th scope=col>V1</th><th scope=col>Leaf_7AM_start_R1_NCC_AA_shd</th><th scope=col>Leaf_7AM_start_R2_NCC_AB_shd</th><th scope=col>Leaf_7AM_start_R3_NCC_AC_shd</th><th scope=col>Leaf_9AM_R1_NCC_AG_shd</th><th scope=col>Leaf_9AM_R2_NCC_AH_shd</th><th scope=col>Leaf_9AM_R3_NCC_AI_shd</th><th scope=col>Leaf_11AM_R1_NCC_AM_shd</th><th scope=col>Leaf_11AM_R2_NCC_AN_shd</th><th scope=col>Leaf_11AM_R3_NCC_AO_shd</th><th scope=col>⋯</th><th scope=col>Leaf_1AM_9_15_22_R3_NCC_KP_lgd</th><th scope=col>Leaf_3AM_9_15_22_R1_NCC_KQ_lgd</th><th scope=col>Leaf_3AM_9_15_22_R2_NCC_KR_lgd</th><th scope=col>Leaf_3AM_9_15_22_R3_NCC_KS_lgd</th><th scope=col>Leaf_5AM_9_15_22_R1_NCC_KT_lgd</th><th scope=col>Leaf_5AM_9_15_22_R2_NCC_KU_lgd</th><th scope=col>Leaf_5AM_9_15_22_R3_NCC_KV_lgd</th><th scope=col>Leaf_7AM_9_15_22_R1_NCC_KW_lgd</th><th scope=col>Leaf_7AM_9_15_22_R2_NCC_KX_lgd</th><th scope=col>Leaf_7AM_9_15_22_R3_NCC_KY_lgd</th></tr>\n",
       "\t<tr><th></th><th scope=col>&lt;chr&gt;</th><th scope=col>&lt;dbl&gt;</th><th scope=col>&lt;dbl&gt;</th><th scope=col>&lt;dbl&gt;</th><th scope=col>&lt;dbl&gt;</th><th scope=col>&lt;dbl&gt;</th><th scope=col>&lt;dbl&gt;</th><th scope=col>&lt;dbl&gt;</th><th scope=col>&lt;dbl&gt;</th><th scope=col>&lt;dbl&gt;</th><th scope=col>⋯</th><th scope=col>&lt;dbl&gt;</th><th scope=col>&lt;dbl&gt;</th><th scope=col>&lt;dbl&gt;</th><th scope=col>&lt;dbl&gt;</th><th scope=col>&lt;dbl&gt;</th><th scope=col>&lt;dbl&gt;</th><th scope=col>&lt;dbl&gt;</th><th scope=col>&lt;dbl&gt;</th><th scope=col>&lt;dbl&gt;</th><th scope=col>&lt;dbl&gt;</th></tr>\n",
       "</thead>\n",
       "<tbody>\n",
       "\t<tr><th scope=row>1</th><td>Solca.09G003510.1</td><td> 0.000000</td><td> 0.000000</td><td> 0.000000</td><td> 0.000000</td><td> 0.000000</td><td> 0.000000</td><td> 0.000000</td><td> 0.000000</td><td> 0.000000</td><td>⋯</td><td> 0.000000</td><td> 0.000000</td><td> 0.000000</td><td> 0.000000</td><td> 0.000000</td><td> 0.000000</td><td> 0.000000</td><td> 0.000000</td><td> 0.000000</td><td> 0.00000</td></tr>\n",
       "\t<tr><th scope=row>2</th><td>Solca.03G011140.1</td><td> 0.000000</td><td> 0.000000</td><td> 0.000000</td><td> 0.000000</td><td> 0.000000</td><td> 0.000000</td><td> 0.000000</td><td> 0.000000</td><td> 0.000000</td><td>⋯</td><td> 0.000000</td><td> 0.000000</td><td> 0.000000</td><td> 0.000000</td><td> 0.000000</td><td> 0.000000</td><td> 0.000000</td><td> 0.000000</td><td> 0.000000</td><td> 0.00000</td></tr>\n",
       "\t<tr><th scope=row>3</th><td>Solca.06G027400.1</td><td>10.659238</td><td>10.534076</td><td>10.521902</td><td>10.605352</td><td>10.543568</td><td>10.646636</td><td>10.708969</td><td>10.614328</td><td>10.609214</td><td>⋯</td><td>10.713415</td><td>10.812440</td><td>10.646494</td><td>10.681782</td><td>10.687877</td><td>10.556610</td><td>10.729127</td><td>10.608727</td><td>10.664840</td><td>10.50478</td></tr>\n",
       "\t<tr><th scope=row>4</th><td>Solca.06G000450.1</td><td>12.790128</td><td>12.920987</td><td>12.829115</td><td>12.674946</td><td>12.794572</td><td>12.717537</td><td>12.768035</td><td>12.598848</td><td>12.760681</td><td>⋯</td><td>12.910751</td><td>13.081362</td><td>13.131436</td><td>13.000241</td><td>13.345211</td><td>13.297529</td><td>13.425063</td><td>13.322365</td><td>13.181478</td><td>13.37196</td></tr>\n",
       "\t<tr><th scope=row>5</th><td>Solca.01G002690.1</td><td> 7.858792</td><td> 7.475328</td><td> 7.887766</td><td> 7.451636</td><td> 7.351373</td><td> 7.631687</td><td> 7.330379</td><td> 7.527196</td><td> 7.666659</td><td>⋯</td><td> 7.587326</td><td> 7.712444</td><td> 7.445591</td><td> 7.669178</td><td> 7.332651</td><td> 7.356843</td><td> 7.414614</td><td> 7.407218</td><td> 7.357386</td><td> 7.68489</td></tr>\n",
       "</tbody>\n",
       "</table>\n"
      ],
      "text/latex": [
       "A data.frame: 5 × 76\n",
       "\\begin{tabular}{r|lllllllllllllllllllll}\n",
       "  & V1 & Leaf\\_7AM\\_start\\_R1\\_NCC\\_AA\\_shd & Leaf\\_7AM\\_start\\_R2\\_NCC\\_AB\\_shd & Leaf\\_7AM\\_start\\_R3\\_NCC\\_AC\\_shd & Leaf\\_9AM\\_R1\\_NCC\\_AG\\_shd & Leaf\\_9AM\\_R2\\_NCC\\_AH\\_shd & Leaf\\_9AM\\_R3\\_NCC\\_AI\\_shd & Leaf\\_11AM\\_R1\\_NCC\\_AM\\_shd & Leaf\\_11AM\\_R2\\_NCC\\_AN\\_shd & Leaf\\_11AM\\_R3\\_NCC\\_AO\\_shd & ⋯ & Leaf\\_1AM\\_9\\_15\\_22\\_R3\\_NCC\\_KP\\_lgd & Leaf\\_3AM\\_9\\_15\\_22\\_R1\\_NCC\\_KQ\\_lgd & Leaf\\_3AM\\_9\\_15\\_22\\_R2\\_NCC\\_KR\\_lgd & Leaf\\_3AM\\_9\\_15\\_22\\_R3\\_NCC\\_KS\\_lgd & Leaf\\_5AM\\_9\\_15\\_22\\_R1\\_NCC\\_KT\\_lgd & Leaf\\_5AM\\_9\\_15\\_22\\_R2\\_NCC\\_KU\\_lgd & Leaf\\_5AM\\_9\\_15\\_22\\_R3\\_NCC\\_KV\\_lgd & Leaf\\_7AM\\_9\\_15\\_22\\_R1\\_NCC\\_KW\\_lgd & Leaf\\_7AM\\_9\\_15\\_22\\_R2\\_NCC\\_KX\\_lgd & Leaf\\_7AM\\_9\\_15\\_22\\_R3\\_NCC\\_KY\\_lgd\\\\\n",
       "  & <chr> & <dbl> & <dbl> & <dbl> & <dbl> & <dbl> & <dbl> & <dbl> & <dbl> & <dbl> & ⋯ & <dbl> & <dbl> & <dbl> & <dbl> & <dbl> & <dbl> & <dbl> & <dbl> & <dbl> & <dbl>\\\\\n",
       "\\hline\n",
       "\t1 & Solca.09G003510.1 &  0.000000 &  0.000000 &  0.000000 &  0.000000 &  0.000000 &  0.000000 &  0.000000 &  0.000000 &  0.000000 & ⋯ &  0.000000 &  0.000000 &  0.000000 &  0.000000 &  0.000000 &  0.000000 &  0.000000 &  0.000000 &  0.000000 &  0.00000\\\\\n",
       "\t2 & Solca.03G011140.1 &  0.000000 &  0.000000 &  0.000000 &  0.000000 &  0.000000 &  0.000000 &  0.000000 &  0.000000 &  0.000000 & ⋯ &  0.000000 &  0.000000 &  0.000000 &  0.000000 &  0.000000 &  0.000000 &  0.000000 &  0.000000 &  0.000000 &  0.00000\\\\\n",
       "\t3 & Solca.06G027400.1 & 10.659238 & 10.534076 & 10.521902 & 10.605352 & 10.543568 & 10.646636 & 10.708969 & 10.614328 & 10.609214 & ⋯ & 10.713415 & 10.812440 & 10.646494 & 10.681782 & 10.687877 & 10.556610 & 10.729127 & 10.608727 & 10.664840 & 10.50478\\\\\n",
       "\t4 & Solca.06G000450.1 & 12.790128 & 12.920987 & 12.829115 & 12.674946 & 12.794572 & 12.717537 & 12.768035 & 12.598848 & 12.760681 & ⋯ & 12.910751 & 13.081362 & 13.131436 & 13.000241 & 13.345211 & 13.297529 & 13.425063 & 13.322365 & 13.181478 & 13.37196\\\\\n",
       "\t5 & Solca.01G002690.1 &  7.858792 &  7.475328 &  7.887766 &  7.451636 &  7.351373 &  7.631687 &  7.330379 &  7.527196 &  7.666659 & ⋯ &  7.587326 &  7.712444 &  7.445591 &  7.669178 &  7.332651 &  7.356843 &  7.414614 &  7.407218 &  7.357386 &  7.68489\\\\\n",
       "\\end{tabular}\n"
      ],
      "text/markdown": [
       "\n",
       "A data.frame: 5 × 76\n",
       "\n",
       "| <!--/--> | V1 &lt;chr&gt; | Leaf_7AM_start_R1_NCC_AA_shd &lt;dbl&gt; | Leaf_7AM_start_R2_NCC_AB_shd &lt;dbl&gt; | Leaf_7AM_start_R3_NCC_AC_shd &lt;dbl&gt; | Leaf_9AM_R1_NCC_AG_shd &lt;dbl&gt; | Leaf_9AM_R2_NCC_AH_shd &lt;dbl&gt; | Leaf_9AM_R3_NCC_AI_shd &lt;dbl&gt; | Leaf_11AM_R1_NCC_AM_shd &lt;dbl&gt; | Leaf_11AM_R2_NCC_AN_shd &lt;dbl&gt; | Leaf_11AM_R3_NCC_AO_shd &lt;dbl&gt; | ⋯ ⋯ | Leaf_1AM_9_15_22_R3_NCC_KP_lgd &lt;dbl&gt; | Leaf_3AM_9_15_22_R1_NCC_KQ_lgd &lt;dbl&gt; | Leaf_3AM_9_15_22_R2_NCC_KR_lgd &lt;dbl&gt; | Leaf_3AM_9_15_22_R3_NCC_KS_lgd &lt;dbl&gt; | Leaf_5AM_9_15_22_R1_NCC_KT_lgd &lt;dbl&gt; | Leaf_5AM_9_15_22_R2_NCC_KU_lgd &lt;dbl&gt; | Leaf_5AM_9_15_22_R3_NCC_KV_lgd &lt;dbl&gt; | Leaf_7AM_9_15_22_R1_NCC_KW_lgd &lt;dbl&gt; | Leaf_7AM_9_15_22_R2_NCC_KX_lgd &lt;dbl&gt; | Leaf_7AM_9_15_22_R3_NCC_KY_lgd &lt;dbl&gt; |\n",
       "|---|---|---|---|---|---|---|---|---|---|---|---|---|---|---|---|---|---|---|---|---|---|\n",
       "| 1 | Solca.09G003510.1 |  0.000000 |  0.000000 |  0.000000 |  0.000000 |  0.000000 |  0.000000 |  0.000000 |  0.000000 |  0.000000 | ⋯ |  0.000000 |  0.000000 |  0.000000 |  0.000000 |  0.000000 |  0.000000 |  0.000000 |  0.000000 |  0.000000 |  0.00000 |\n",
       "| 2 | Solca.03G011140.1 |  0.000000 |  0.000000 |  0.000000 |  0.000000 |  0.000000 |  0.000000 |  0.000000 |  0.000000 |  0.000000 | ⋯ |  0.000000 |  0.000000 |  0.000000 |  0.000000 |  0.000000 |  0.000000 |  0.000000 |  0.000000 |  0.000000 |  0.00000 |\n",
       "| 3 | Solca.06G027400.1 | 10.659238 | 10.534076 | 10.521902 | 10.605352 | 10.543568 | 10.646636 | 10.708969 | 10.614328 | 10.609214 | ⋯ | 10.713415 | 10.812440 | 10.646494 | 10.681782 | 10.687877 | 10.556610 | 10.729127 | 10.608727 | 10.664840 | 10.50478 |\n",
       "| 4 | Solca.06G000450.1 | 12.790128 | 12.920987 | 12.829115 | 12.674946 | 12.794572 | 12.717537 | 12.768035 | 12.598848 | 12.760681 | ⋯ | 12.910751 | 13.081362 | 13.131436 | 13.000241 | 13.345211 | 13.297529 | 13.425063 | 13.322365 | 13.181478 | 13.37196 |\n",
       "| 5 | Solca.01G002690.1 |  7.858792 |  7.475328 |  7.887766 |  7.451636 |  7.351373 |  7.631687 |  7.330379 |  7.527196 |  7.666659 | ⋯ |  7.587326 |  7.712444 |  7.445591 |  7.669178 |  7.332651 |  7.356843 |  7.414614 |  7.407218 |  7.357386 |  7.68489 |\n",
       "\n"
      ],
      "text/plain": [
       "  V1                Leaf_7AM_start_R1_NCC_AA_shd Leaf_7AM_start_R2_NCC_AB_shd\n",
       "1 Solca.09G003510.1  0.000000                     0.000000                   \n",
       "2 Solca.03G011140.1  0.000000                     0.000000                   \n",
       "3 Solca.06G027400.1 10.659238                    10.534076                   \n",
       "4 Solca.06G000450.1 12.790128                    12.920987                   \n",
       "5 Solca.01G002690.1  7.858792                     7.475328                   \n",
       "  Leaf_7AM_start_R3_NCC_AC_shd Leaf_9AM_R1_NCC_AG_shd Leaf_9AM_R2_NCC_AH_shd\n",
       "1  0.000000                     0.000000               0.000000             \n",
       "2  0.000000                     0.000000               0.000000             \n",
       "3 10.521902                    10.605352              10.543568             \n",
       "4 12.829115                    12.674946              12.794572             \n",
       "5  7.887766                     7.451636               7.351373             \n",
       "  Leaf_9AM_R3_NCC_AI_shd Leaf_11AM_R1_NCC_AM_shd Leaf_11AM_R2_NCC_AN_shd\n",
       "1  0.000000               0.000000                0.000000              \n",
       "2  0.000000               0.000000                0.000000              \n",
       "3 10.646636              10.708969               10.614328              \n",
       "4 12.717537              12.768035               12.598848              \n",
       "5  7.631687               7.330379                7.527196              \n",
       "  Leaf_11AM_R3_NCC_AO_shd ⋯ Leaf_1AM_9_15_22_R3_NCC_KP_lgd\n",
       "1  0.000000               ⋯  0.000000                     \n",
       "2  0.000000               ⋯  0.000000                     \n",
       "3 10.609214               ⋯ 10.713415                     \n",
       "4 12.760681               ⋯ 12.910751                     \n",
       "5  7.666659               ⋯  7.587326                     \n",
       "  Leaf_3AM_9_15_22_R1_NCC_KQ_lgd Leaf_3AM_9_15_22_R2_NCC_KR_lgd\n",
       "1  0.000000                       0.000000                     \n",
       "2  0.000000                       0.000000                     \n",
       "3 10.812440                      10.646494                     \n",
       "4 13.081362                      13.131436                     \n",
       "5  7.712444                       7.445591                     \n",
       "  Leaf_3AM_9_15_22_R3_NCC_KS_lgd Leaf_5AM_9_15_22_R1_NCC_KT_lgd\n",
       "1  0.000000                       0.000000                     \n",
       "2  0.000000                       0.000000                     \n",
       "3 10.681782                      10.687877                     \n",
       "4 13.000241                      13.345211                     \n",
       "5  7.669178                       7.332651                     \n",
       "  Leaf_5AM_9_15_22_R2_NCC_KU_lgd Leaf_5AM_9_15_22_R3_NCC_KV_lgd\n",
       "1  0.000000                       0.000000                     \n",
       "2  0.000000                       0.000000                     \n",
       "3 10.556610                      10.729127                     \n",
       "4 13.297529                      13.425063                     \n",
       "5  7.356843                       7.414614                     \n",
       "  Leaf_7AM_9_15_22_R1_NCC_KW_lgd Leaf_7AM_9_15_22_R2_NCC_KX_lgd\n",
       "1  0.000000                       0.000000                     \n",
       "2  0.000000                       0.000000                     \n",
       "3 10.608727                      10.664840                     \n",
       "4 13.322365                      13.181478                     \n",
       "5  7.407218                       7.357386                     \n",
       "  Leaf_7AM_9_15_22_R3_NCC_KY_lgd\n",
       "1  0.00000                      \n",
       "2  0.00000                      \n",
       "3 10.50478                      \n",
       "4 13.37196                      \n",
       "5  7.68489                      "
      ]
     },
     "metadata": {},
     "output_type": "display_data"
    }
   ],
   "source": [
    "dataframes[[2]][1:5,]"
   ]
  },
  {
   "cell_type": "code",
   "execution_count": 6,
   "id": "336cb78f-5058-48bf-a41a-c916d5e56574",
   "metadata": {},
   "outputs": [
    {
     "data": {
      "text/html": [
       "'V1'"
      ],
      "text/latex": [
       "'V1'"
      ],
      "text/markdown": [
       "'V1'"
      ],
      "text/plain": [
       "[1] \"V1\""
      ]
     },
     "metadata": {},
     "output_type": "display_data"
    }
   ],
   "source": [
    "colnames(dataframes[[1]])[1] "
   ]
  },
  {
   "cell_type": "code",
   "execution_count": 7,
   "id": "52f1f9fd-de34-423f-9319-368e94950a44",
   "metadata": {},
   "outputs": [
    {
     "data": {
      "text/html": [
       "'V1'"
      ],
      "text/latex": [
       "'V1'"
      ],
      "text/markdown": [
       "'V1'"
      ],
      "text/plain": [
       "[1] \"V1\""
      ]
     },
     "metadata": {},
     "output_type": "display_data"
    }
   ],
   "source": [
    "colnames(dataframes[[3]])[1] "
   ]
  },
  {
   "cell_type": "code",
   "execution_count": 8,
   "id": "a9e69395-4723-4cb8-89e6-f08d86075f33",
   "metadata": {},
   "outputs": [],
   "source": [
    "for (i in 1:length(files_list))\n",
    "  colnames(dataframes[[i]])[1] <- 'geneID'"
   ]
  },
  {
   "cell_type": "code",
   "execution_count": 9,
   "id": "77d2309e-34f4-4788-a1fc-be9f2e7355ad",
   "metadata": {},
   "outputs": [
    {
     "data": {
      "text/html": [
       "<style>\n",
       ".list-inline {list-style: none; margin:0; padding: 0}\n",
       ".list-inline>li {display: inline-block}\n",
       ".list-inline>li:not(:last-child)::after {content: \"\\00b7\"; padding: 0 .5ex}\n",
       "</style>\n",
       "<ol class=list-inline><li>'geneID'</li><li>'Leaf_7AM_start_R1_NCC_AA_shd'</li><li>'Leaf_7AM_start_R2_NCC_AB_shd'</li><li>'Leaf_7AM_start_R3_NCC_AC_shd'</li><li>'Leaf_9AM_R1_NCC_AG_shd'</li><li>'Leaf_9AM_R2_NCC_AH_shd'</li><li>'Leaf_9AM_R3_NCC_AI_shd'</li><li>'Leaf_11AM_R1_NCC_AM_shd'</li><li>'Leaf_11AM_R2_NCC_AN_shd'</li><li>'Leaf_11AM_R3_NCC_AO_shd'</li><li>'Leaf_1PM_R1_NCC_AS_shd'</li><li>'Leaf_1PM_R2_NCC_AT_shd'</li><li>'Leaf_1PM_R3_NCC_AU_shd'</li><li>'Leaf_3PM_R1_NCC_AY_shd'</li><li>'Leaf_3PM_R2_NCC_AZ_shd'</li><li>'Leaf_3PM_R3_NCC_BA_shd'</li><li>'Leaf_5PM_R1_NCC_BE_shd'</li><li>'Leaf_5PM_R2_NCC_BF_shd'</li><li>'Leaf_5PM_R3_NCC_BG_shd'</li><li>'Leaf_7PM_R1_NCC_BK_shd'</li><li>'Leaf_7PM_R2_NCC_BL_shd'</li><li>'Leaf_7PM_R3_NCC_BM_shd'</li><li>'Leaf_9PM_R1_NCC_BQ_shd'</li><li>'Leaf_9PM_R2_NCC_BR_shd'</li><li>'Leaf_9PM_R3_NCC_BS_shd'</li><li>'Leaf_11PM_R2_NCC_BX_shd'</li><li>'Leaf_11PM_R3_NCC_BY_shd'</li><li>'Leaf_1AM_R1_NCC_CC_shd'</li><li>'Leaf_1AM_R2_NCC_CD_shd'</li><li>'Leaf_1AM_R3_NCC_CE_shd'</li><li>'Leaf_3AM_R1_NCC_CI_shd'</li><li>'Leaf_3AM_R2_NCC_CJ_shd'</li><li>'Leaf_3AM_R3_NCC_CK_shd'</li><li>'Leaf_5AM_R1_NCC_CO_shd'</li><li>'Leaf_5AM_R2_NCC_CP_shd'</li><li>'Leaf_5AM_R3_NCC_CQ_shd'</li><li>'Leaf_7AM_end_R2_NCC_CV_shd'</li><li>'Leaf_7AM_end_R3_NCC_CW_shd'</li><li>'Leaf_7AM_9_14_22_R1_NCC_JM_lgd'</li><li>'Leaf_7AM_9_14_22_R2_NCC_JN_lgd'</li><li>'Leaf_7AM_9_14_22_R3_NCC_JO_lgd'</li><li>'Leaf_9AM_9_14_22_R1_NCC_JP_lgd'</li><li>'Leaf_9AM_9_14_22_R2_NCC_JQ_lgd'</li><li>'Leaf_9AM_9_14_22_R3_NCC_JR_lgd'</li><li>'Leaf_11AM_9_14_22_R1_NCC_JS_lgd'</li><li>'Leaf_11AM_9_14_22_R2_NCC_JT_lgd'</li><li>'Leaf_11AM_9_14_22_R3_NCC_JU_lgd'</li><li>'Leaf_1PM_9_14_22_R1_NCC_JV_lgd'</li><li>'Leaf_1PM_9_14_22_R2_NCC_JW_lgd'</li><li>'Leaf_1PM_9_14_22_R3_NCC_JX_lgd'</li><li>'Leaf_3PM_9_14_22_R1_NCC_JY_lgd'</li><li>'Leaf_3PM_9_14_22_R2_NCC_JZ_lgd'</li><li>'Leaf_3PM_9_14_22_R3_NCC_KA_lgd'</li><li>'Leaf_5PM_9_14_22_R1_NCC_KB_lgd'</li><li>'Leaf_5PM_9_14_22_R2_NCC_KC_lgd'</li><li>'Leaf_5PM_9_14_22_R3_NCC_KD_lgd'</li><li>'Leaf_7PM_9_14_22_R1_NCC_KE_lgd'</li><li>'Leaf_7PM_9_14_22_R2_NCC_KF_lgd'</li><li>'Leaf_7PM_9_14_22_R3_NCC_KG_lgd'</li><li>'Leaf_9PM_9_14_22_R1_NCC_KH_lgd'</li><li>'Leaf_9PM_9_14_22_R2_NCC_KI_lgd'</li><li>'Leaf_9PM_9_14_22_R3_NCC_KJ_lgd'</li><li>'Leaf_11PM_9_14_22_R1_NCC_KK_lgd'</li><li>'Leaf_11PM_9_14_22_R3_NCC_KM_lgd'</li><li>'Leaf_1AM_9_15_22_R1_NCC_KN_lgd'</li><li>'Leaf_1AM_9_15_22_R2_NCC_KO_lgd'</li><li>'Leaf_1AM_9_15_22_R3_NCC_KP_lgd'</li><li>'Leaf_3AM_9_15_22_R1_NCC_KQ_lgd'</li><li>'Leaf_3AM_9_15_22_R2_NCC_KR_lgd'</li><li>'Leaf_3AM_9_15_22_R3_NCC_KS_lgd'</li><li>'Leaf_5AM_9_15_22_R1_NCC_KT_lgd'</li><li>'Leaf_5AM_9_15_22_R2_NCC_KU_lgd'</li><li>'Leaf_5AM_9_15_22_R3_NCC_KV_lgd'</li><li>'Leaf_7AM_9_15_22_R1_NCC_KW_lgd'</li><li>'Leaf_7AM_9_15_22_R2_NCC_KX_lgd'</li><li>'Leaf_7AM_9_15_22_R3_NCC_KY_lgd'</li></ol>\n"
      ],
      "text/latex": [
       "\\begin{enumerate*}\n",
       "\\item 'geneID'\n",
       "\\item 'Leaf\\_7AM\\_start\\_R1\\_NCC\\_AA\\_shd'\n",
       "\\item 'Leaf\\_7AM\\_start\\_R2\\_NCC\\_AB\\_shd'\n",
       "\\item 'Leaf\\_7AM\\_start\\_R3\\_NCC\\_AC\\_shd'\n",
       "\\item 'Leaf\\_9AM\\_R1\\_NCC\\_AG\\_shd'\n",
       "\\item 'Leaf\\_9AM\\_R2\\_NCC\\_AH\\_shd'\n",
       "\\item 'Leaf\\_9AM\\_R3\\_NCC\\_AI\\_shd'\n",
       "\\item 'Leaf\\_11AM\\_R1\\_NCC\\_AM\\_shd'\n",
       "\\item 'Leaf\\_11AM\\_R2\\_NCC\\_AN\\_shd'\n",
       "\\item 'Leaf\\_11AM\\_R3\\_NCC\\_AO\\_shd'\n",
       "\\item 'Leaf\\_1PM\\_R1\\_NCC\\_AS\\_shd'\n",
       "\\item 'Leaf\\_1PM\\_R2\\_NCC\\_AT\\_shd'\n",
       "\\item 'Leaf\\_1PM\\_R3\\_NCC\\_AU\\_shd'\n",
       "\\item 'Leaf\\_3PM\\_R1\\_NCC\\_AY\\_shd'\n",
       "\\item 'Leaf\\_3PM\\_R2\\_NCC\\_AZ\\_shd'\n",
       "\\item 'Leaf\\_3PM\\_R3\\_NCC\\_BA\\_shd'\n",
       "\\item 'Leaf\\_5PM\\_R1\\_NCC\\_BE\\_shd'\n",
       "\\item 'Leaf\\_5PM\\_R2\\_NCC\\_BF\\_shd'\n",
       "\\item 'Leaf\\_5PM\\_R3\\_NCC\\_BG\\_shd'\n",
       "\\item 'Leaf\\_7PM\\_R1\\_NCC\\_BK\\_shd'\n",
       "\\item 'Leaf\\_7PM\\_R2\\_NCC\\_BL\\_shd'\n",
       "\\item 'Leaf\\_7PM\\_R3\\_NCC\\_BM\\_shd'\n",
       "\\item 'Leaf\\_9PM\\_R1\\_NCC\\_BQ\\_shd'\n",
       "\\item 'Leaf\\_9PM\\_R2\\_NCC\\_BR\\_shd'\n",
       "\\item 'Leaf\\_9PM\\_R3\\_NCC\\_BS\\_shd'\n",
       "\\item 'Leaf\\_11PM\\_R2\\_NCC\\_BX\\_shd'\n",
       "\\item 'Leaf\\_11PM\\_R3\\_NCC\\_BY\\_shd'\n",
       "\\item 'Leaf\\_1AM\\_R1\\_NCC\\_CC\\_shd'\n",
       "\\item 'Leaf\\_1AM\\_R2\\_NCC\\_CD\\_shd'\n",
       "\\item 'Leaf\\_1AM\\_R3\\_NCC\\_CE\\_shd'\n",
       "\\item 'Leaf\\_3AM\\_R1\\_NCC\\_CI\\_shd'\n",
       "\\item 'Leaf\\_3AM\\_R2\\_NCC\\_CJ\\_shd'\n",
       "\\item 'Leaf\\_3AM\\_R3\\_NCC\\_CK\\_shd'\n",
       "\\item 'Leaf\\_5AM\\_R1\\_NCC\\_CO\\_shd'\n",
       "\\item 'Leaf\\_5AM\\_R2\\_NCC\\_CP\\_shd'\n",
       "\\item 'Leaf\\_5AM\\_R3\\_NCC\\_CQ\\_shd'\n",
       "\\item 'Leaf\\_7AM\\_end\\_R2\\_NCC\\_CV\\_shd'\n",
       "\\item 'Leaf\\_7AM\\_end\\_R3\\_NCC\\_CW\\_shd'\n",
       "\\item 'Leaf\\_7AM\\_9\\_14\\_22\\_R1\\_NCC\\_JM\\_lgd'\n",
       "\\item 'Leaf\\_7AM\\_9\\_14\\_22\\_R2\\_NCC\\_JN\\_lgd'\n",
       "\\item 'Leaf\\_7AM\\_9\\_14\\_22\\_R3\\_NCC\\_JO\\_lgd'\n",
       "\\item 'Leaf\\_9AM\\_9\\_14\\_22\\_R1\\_NCC\\_JP\\_lgd'\n",
       "\\item 'Leaf\\_9AM\\_9\\_14\\_22\\_R2\\_NCC\\_JQ\\_lgd'\n",
       "\\item 'Leaf\\_9AM\\_9\\_14\\_22\\_R3\\_NCC\\_JR\\_lgd'\n",
       "\\item 'Leaf\\_11AM\\_9\\_14\\_22\\_R1\\_NCC\\_JS\\_lgd'\n",
       "\\item 'Leaf\\_11AM\\_9\\_14\\_22\\_R2\\_NCC\\_JT\\_lgd'\n",
       "\\item 'Leaf\\_11AM\\_9\\_14\\_22\\_R3\\_NCC\\_JU\\_lgd'\n",
       "\\item 'Leaf\\_1PM\\_9\\_14\\_22\\_R1\\_NCC\\_JV\\_lgd'\n",
       "\\item 'Leaf\\_1PM\\_9\\_14\\_22\\_R2\\_NCC\\_JW\\_lgd'\n",
       "\\item 'Leaf\\_1PM\\_9\\_14\\_22\\_R3\\_NCC\\_JX\\_lgd'\n",
       "\\item 'Leaf\\_3PM\\_9\\_14\\_22\\_R1\\_NCC\\_JY\\_lgd'\n",
       "\\item 'Leaf\\_3PM\\_9\\_14\\_22\\_R2\\_NCC\\_JZ\\_lgd'\n",
       "\\item 'Leaf\\_3PM\\_9\\_14\\_22\\_R3\\_NCC\\_KA\\_lgd'\n",
       "\\item 'Leaf\\_5PM\\_9\\_14\\_22\\_R1\\_NCC\\_KB\\_lgd'\n",
       "\\item 'Leaf\\_5PM\\_9\\_14\\_22\\_R2\\_NCC\\_KC\\_lgd'\n",
       "\\item 'Leaf\\_5PM\\_9\\_14\\_22\\_R3\\_NCC\\_KD\\_lgd'\n",
       "\\item 'Leaf\\_7PM\\_9\\_14\\_22\\_R1\\_NCC\\_KE\\_lgd'\n",
       "\\item 'Leaf\\_7PM\\_9\\_14\\_22\\_R2\\_NCC\\_KF\\_lgd'\n",
       "\\item 'Leaf\\_7PM\\_9\\_14\\_22\\_R3\\_NCC\\_KG\\_lgd'\n",
       "\\item 'Leaf\\_9PM\\_9\\_14\\_22\\_R1\\_NCC\\_KH\\_lgd'\n",
       "\\item 'Leaf\\_9PM\\_9\\_14\\_22\\_R2\\_NCC\\_KI\\_lgd'\n",
       "\\item 'Leaf\\_9PM\\_9\\_14\\_22\\_R3\\_NCC\\_KJ\\_lgd'\n",
       "\\item 'Leaf\\_11PM\\_9\\_14\\_22\\_R1\\_NCC\\_KK\\_lgd'\n",
       "\\item 'Leaf\\_11PM\\_9\\_14\\_22\\_R3\\_NCC\\_KM\\_lgd'\n",
       "\\item 'Leaf\\_1AM\\_9\\_15\\_22\\_R1\\_NCC\\_KN\\_lgd'\n",
       "\\item 'Leaf\\_1AM\\_9\\_15\\_22\\_R2\\_NCC\\_KO\\_lgd'\n",
       "\\item 'Leaf\\_1AM\\_9\\_15\\_22\\_R3\\_NCC\\_KP\\_lgd'\n",
       "\\item 'Leaf\\_3AM\\_9\\_15\\_22\\_R1\\_NCC\\_KQ\\_lgd'\n",
       "\\item 'Leaf\\_3AM\\_9\\_15\\_22\\_R2\\_NCC\\_KR\\_lgd'\n",
       "\\item 'Leaf\\_3AM\\_9\\_15\\_22\\_R3\\_NCC\\_KS\\_lgd'\n",
       "\\item 'Leaf\\_5AM\\_9\\_15\\_22\\_R1\\_NCC\\_KT\\_lgd'\n",
       "\\item 'Leaf\\_5AM\\_9\\_15\\_22\\_R2\\_NCC\\_KU\\_lgd'\n",
       "\\item 'Leaf\\_5AM\\_9\\_15\\_22\\_R3\\_NCC\\_KV\\_lgd'\n",
       "\\item 'Leaf\\_7AM\\_9\\_15\\_22\\_R1\\_NCC\\_KW\\_lgd'\n",
       "\\item 'Leaf\\_7AM\\_9\\_15\\_22\\_R2\\_NCC\\_KX\\_lgd'\n",
       "\\item 'Leaf\\_7AM\\_9\\_15\\_22\\_R3\\_NCC\\_KY\\_lgd'\n",
       "\\end{enumerate*}\n"
      ],
      "text/markdown": [
       "1. 'geneID'\n",
       "2. 'Leaf_7AM_start_R1_NCC_AA_shd'\n",
       "3. 'Leaf_7AM_start_R2_NCC_AB_shd'\n",
       "4. 'Leaf_7AM_start_R3_NCC_AC_shd'\n",
       "5. 'Leaf_9AM_R1_NCC_AG_shd'\n",
       "6. 'Leaf_9AM_R2_NCC_AH_shd'\n",
       "7. 'Leaf_9AM_R3_NCC_AI_shd'\n",
       "8. 'Leaf_11AM_R1_NCC_AM_shd'\n",
       "9. 'Leaf_11AM_R2_NCC_AN_shd'\n",
       "10. 'Leaf_11AM_R3_NCC_AO_shd'\n",
       "11. 'Leaf_1PM_R1_NCC_AS_shd'\n",
       "12. 'Leaf_1PM_R2_NCC_AT_shd'\n",
       "13. 'Leaf_1PM_R3_NCC_AU_shd'\n",
       "14. 'Leaf_3PM_R1_NCC_AY_shd'\n",
       "15. 'Leaf_3PM_R2_NCC_AZ_shd'\n",
       "16. 'Leaf_3PM_R3_NCC_BA_shd'\n",
       "17. 'Leaf_5PM_R1_NCC_BE_shd'\n",
       "18. 'Leaf_5PM_R2_NCC_BF_shd'\n",
       "19. 'Leaf_5PM_R3_NCC_BG_shd'\n",
       "20. 'Leaf_7PM_R1_NCC_BK_shd'\n",
       "21. 'Leaf_7PM_R2_NCC_BL_shd'\n",
       "22. 'Leaf_7PM_R3_NCC_BM_shd'\n",
       "23. 'Leaf_9PM_R1_NCC_BQ_shd'\n",
       "24. 'Leaf_9PM_R2_NCC_BR_shd'\n",
       "25. 'Leaf_9PM_R3_NCC_BS_shd'\n",
       "26. 'Leaf_11PM_R2_NCC_BX_shd'\n",
       "27. 'Leaf_11PM_R3_NCC_BY_shd'\n",
       "28. 'Leaf_1AM_R1_NCC_CC_shd'\n",
       "29. 'Leaf_1AM_R2_NCC_CD_shd'\n",
       "30. 'Leaf_1AM_R3_NCC_CE_shd'\n",
       "31. 'Leaf_3AM_R1_NCC_CI_shd'\n",
       "32. 'Leaf_3AM_R2_NCC_CJ_shd'\n",
       "33. 'Leaf_3AM_R3_NCC_CK_shd'\n",
       "34. 'Leaf_5AM_R1_NCC_CO_shd'\n",
       "35. 'Leaf_5AM_R2_NCC_CP_shd'\n",
       "36. 'Leaf_5AM_R3_NCC_CQ_shd'\n",
       "37. 'Leaf_7AM_end_R2_NCC_CV_shd'\n",
       "38. 'Leaf_7AM_end_R3_NCC_CW_shd'\n",
       "39. 'Leaf_7AM_9_14_22_R1_NCC_JM_lgd'\n",
       "40. 'Leaf_7AM_9_14_22_R2_NCC_JN_lgd'\n",
       "41. 'Leaf_7AM_9_14_22_R3_NCC_JO_lgd'\n",
       "42. 'Leaf_9AM_9_14_22_R1_NCC_JP_lgd'\n",
       "43. 'Leaf_9AM_9_14_22_R2_NCC_JQ_lgd'\n",
       "44. 'Leaf_9AM_9_14_22_R3_NCC_JR_lgd'\n",
       "45. 'Leaf_11AM_9_14_22_R1_NCC_JS_lgd'\n",
       "46. 'Leaf_11AM_9_14_22_R2_NCC_JT_lgd'\n",
       "47. 'Leaf_11AM_9_14_22_R3_NCC_JU_lgd'\n",
       "48. 'Leaf_1PM_9_14_22_R1_NCC_JV_lgd'\n",
       "49. 'Leaf_1PM_9_14_22_R2_NCC_JW_lgd'\n",
       "50. 'Leaf_1PM_9_14_22_R3_NCC_JX_lgd'\n",
       "51. 'Leaf_3PM_9_14_22_R1_NCC_JY_lgd'\n",
       "52. 'Leaf_3PM_9_14_22_R2_NCC_JZ_lgd'\n",
       "53. 'Leaf_3PM_9_14_22_R3_NCC_KA_lgd'\n",
       "54. 'Leaf_5PM_9_14_22_R1_NCC_KB_lgd'\n",
       "55. 'Leaf_5PM_9_14_22_R2_NCC_KC_lgd'\n",
       "56. 'Leaf_5PM_9_14_22_R3_NCC_KD_lgd'\n",
       "57. 'Leaf_7PM_9_14_22_R1_NCC_KE_lgd'\n",
       "58. 'Leaf_7PM_9_14_22_R2_NCC_KF_lgd'\n",
       "59. 'Leaf_7PM_9_14_22_R3_NCC_KG_lgd'\n",
       "60. 'Leaf_9PM_9_14_22_R1_NCC_KH_lgd'\n",
       "61. 'Leaf_9PM_9_14_22_R2_NCC_KI_lgd'\n",
       "62. 'Leaf_9PM_9_14_22_R3_NCC_KJ_lgd'\n",
       "63. 'Leaf_11PM_9_14_22_R1_NCC_KK_lgd'\n",
       "64. 'Leaf_11PM_9_14_22_R3_NCC_KM_lgd'\n",
       "65. 'Leaf_1AM_9_15_22_R1_NCC_KN_lgd'\n",
       "66. 'Leaf_1AM_9_15_22_R2_NCC_KO_lgd'\n",
       "67. 'Leaf_1AM_9_15_22_R3_NCC_KP_lgd'\n",
       "68. 'Leaf_3AM_9_15_22_R1_NCC_KQ_lgd'\n",
       "69. 'Leaf_3AM_9_15_22_R2_NCC_KR_lgd'\n",
       "70. 'Leaf_3AM_9_15_22_R3_NCC_KS_lgd'\n",
       "71. 'Leaf_5AM_9_15_22_R1_NCC_KT_lgd'\n",
       "72. 'Leaf_5AM_9_15_22_R2_NCC_KU_lgd'\n",
       "73. 'Leaf_5AM_9_15_22_R3_NCC_KV_lgd'\n",
       "74. 'Leaf_7AM_9_15_22_R1_NCC_KW_lgd'\n",
       "75. 'Leaf_7AM_9_15_22_R2_NCC_KX_lgd'\n",
       "76. 'Leaf_7AM_9_15_22_R3_NCC_KY_lgd'\n",
       "\n",
       "\n"
      ],
      "text/plain": [
       " [1] \"geneID\"                          \"Leaf_7AM_start_R1_NCC_AA_shd\"   \n",
       " [3] \"Leaf_7AM_start_R2_NCC_AB_shd\"    \"Leaf_7AM_start_R3_NCC_AC_shd\"   \n",
       " [5] \"Leaf_9AM_R1_NCC_AG_shd\"          \"Leaf_9AM_R2_NCC_AH_shd\"         \n",
       " [7] \"Leaf_9AM_R3_NCC_AI_shd\"          \"Leaf_11AM_R1_NCC_AM_shd\"        \n",
       " [9] \"Leaf_11AM_R2_NCC_AN_shd\"         \"Leaf_11AM_R3_NCC_AO_shd\"        \n",
       "[11] \"Leaf_1PM_R1_NCC_AS_shd\"          \"Leaf_1PM_R2_NCC_AT_shd\"         \n",
       "[13] \"Leaf_1PM_R3_NCC_AU_shd\"          \"Leaf_3PM_R1_NCC_AY_shd\"         \n",
       "[15] \"Leaf_3PM_R2_NCC_AZ_shd\"          \"Leaf_3PM_R3_NCC_BA_shd\"         \n",
       "[17] \"Leaf_5PM_R1_NCC_BE_shd\"          \"Leaf_5PM_R2_NCC_BF_shd\"         \n",
       "[19] \"Leaf_5PM_R3_NCC_BG_shd\"          \"Leaf_7PM_R1_NCC_BK_shd\"         \n",
       "[21] \"Leaf_7PM_R2_NCC_BL_shd\"          \"Leaf_7PM_R3_NCC_BM_shd\"         \n",
       "[23] \"Leaf_9PM_R1_NCC_BQ_shd\"          \"Leaf_9PM_R2_NCC_BR_shd\"         \n",
       "[25] \"Leaf_9PM_R3_NCC_BS_shd\"          \"Leaf_11PM_R2_NCC_BX_shd\"        \n",
       "[27] \"Leaf_11PM_R3_NCC_BY_shd\"         \"Leaf_1AM_R1_NCC_CC_shd\"         \n",
       "[29] \"Leaf_1AM_R2_NCC_CD_shd\"          \"Leaf_1AM_R3_NCC_CE_shd\"         \n",
       "[31] \"Leaf_3AM_R1_NCC_CI_shd\"          \"Leaf_3AM_R2_NCC_CJ_shd\"         \n",
       "[33] \"Leaf_3AM_R3_NCC_CK_shd\"          \"Leaf_5AM_R1_NCC_CO_shd\"         \n",
       "[35] \"Leaf_5AM_R2_NCC_CP_shd\"          \"Leaf_5AM_R3_NCC_CQ_shd\"         \n",
       "[37] \"Leaf_7AM_end_R2_NCC_CV_shd\"      \"Leaf_7AM_end_R3_NCC_CW_shd\"     \n",
       "[39] \"Leaf_7AM_9_14_22_R1_NCC_JM_lgd\"  \"Leaf_7AM_9_14_22_R2_NCC_JN_lgd\" \n",
       "[41] \"Leaf_7AM_9_14_22_R3_NCC_JO_lgd\"  \"Leaf_9AM_9_14_22_R1_NCC_JP_lgd\" \n",
       "[43] \"Leaf_9AM_9_14_22_R2_NCC_JQ_lgd\"  \"Leaf_9AM_9_14_22_R3_NCC_JR_lgd\" \n",
       "[45] \"Leaf_11AM_9_14_22_R1_NCC_JS_lgd\" \"Leaf_11AM_9_14_22_R2_NCC_JT_lgd\"\n",
       "[47] \"Leaf_11AM_9_14_22_R3_NCC_JU_lgd\" \"Leaf_1PM_9_14_22_R1_NCC_JV_lgd\" \n",
       "[49] \"Leaf_1PM_9_14_22_R2_NCC_JW_lgd\"  \"Leaf_1PM_9_14_22_R3_NCC_JX_lgd\" \n",
       "[51] \"Leaf_3PM_9_14_22_R1_NCC_JY_lgd\"  \"Leaf_3PM_9_14_22_R2_NCC_JZ_lgd\" \n",
       "[53] \"Leaf_3PM_9_14_22_R3_NCC_KA_lgd\"  \"Leaf_5PM_9_14_22_R1_NCC_KB_lgd\" \n",
       "[55] \"Leaf_5PM_9_14_22_R2_NCC_KC_lgd\"  \"Leaf_5PM_9_14_22_R3_NCC_KD_lgd\" \n",
       "[57] \"Leaf_7PM_9_14_22_R1_NCC_KE_lgd\"  \"Leaf_7PM_9_14_22_R2_NCC_KF_lgd\" \n",
       "[59] \"Leaf_7PM_9_14_22_R3_NCC_KG_lgd\"  \"Leaf_9PM_9_14_22_R1_NCC_KH_lgd\" \n",
       "[61] \"Leaf_9PM_9_14_22_R2_NCC_KI_lgd\"  \"Leaf_9PM_9_14_22_R3_NCC_KJ_lgd\" \n",
       "[63] \"Leaf_11PM_9_14_22_R1_NCC_KK_lgd\" \"Leaf_11PM_9_14_22_R3_NCC_KM_lgd\"\n",
       "[65] \"Leaf_1AM_9_15_22_R1_NCC_KN_lgd\"  \"Leaf_1AM_9_15_22_R2_NCC_KO_lgd\" \n",
       "[67] \"Leaf_1AM_9_15_22_R3_NCC_KP_lgd\"  \"Leaf_3AM_9_15_22_R1_NCC_KQ_lgd\" \n",
       "[69] \"Leaf_3AM_9_15_22_R2_NCC_KR_lgd\"  \"Leaf_3AM_9_15_22_R3_NCC_KS_lgd\" \n",
       "[71] \"Leaf_5AM_9_15_22_R1_NCC_KT_lgd\"  \"Leaf_5AM_9_15_22_R2_NCC_KU_lgd\" \n",
       "[73] \"Leaf_5AM_9_15_22_R3_NCC_KV_lgd\"  \"Leaf_7AM_9_15_22_R1_NCC_KW_lgd\" \n",
       "[75] \"Leaf_7AM_9_15_22_R2_NCC_KX_lgd\"  \"Leaf_7AM_9_15_22_R3_NCC_KY_lgd\" "
      ]
     },
     "metadata": {},
     "output_type": "display_data"
    }
   ],
   "source": [
    "colnames(dataframes[[2]])"
   ]
  },
  {
   "cell_type": "code",
   "execution_count": 10,
   "id": "37a317f2-f4c6-496a-917e-bfac476a029f",
   "metadata": {},
   "outputs": [
    {
     "data": {
      "text/html": [
       "76"
      ],
      "text/latex": [
       "76"
      ],
      "text/markdown": [
       "76"
      ],
      "text/plain": [
       "[1] 76"
      ]
     },
     "metadata": {},
     "output_type": "display_data"
    }
   ],
   "source": [
    "ncol(dataframes[[2]])"
   ]
  },
  {
   "cell_type": "markdown",
   "id": "c91c89dd-69d6-405a-afdd-689aef8e6513",
   "metadata": {},
   "source": [
    "### NOTE: need to fix the M6 long day 11 pm and 1 am time points"
   ]
  },
  {
   "cell_type": "code",
   "execution_count": 11,
   "id": "4c061947-3933-407f-aae8-d6921280414b",
   "metadata": {},
   "outputs": [
    {
     "data": {
      "text/html": [
       "63"
      ],
      "text/latex": [
       "63"
      ],
      "text/markdown": [
       "63"
      ],
      "text/plain": [
       "[1] 63"
      ]
     },
     "metadata": {},
     "output_type": "display_data"
    },
    {
     "data": {
      "text/html": [
       "64"
      ],
      "text/latex": [
       "64"
      ],
      "text/markdown": [
       "64"
      ],
      "text/plain": [
       "[1] 64"
      ]
     },
     "metadata": {},
     "output_type": "display_data"
    },
    {
     "data": {
      "text/html": [
       "65"
      ],
      "text/latex": [
       "65"
      ],
      "text/markdown": [
       "65"
      ],
      "text/plain": [
       "[1] 65"
      ]
     },
     "metadata": {},
     "output_type": "display_data"
    },
    {
     "data": {
      "text/html": [
       "66"
      ],
      "text/latex": [
       "66"
      ],
      "text/markdown": [
       "66"
      ],
      "text/plain": [
       "[1] 66"
      ]
     },
     "metadata": {},
     "output_type": "display_data"
    },
    {
     "data": {
      "text/html": [
       "67"
      ],
      "text/latex": [
       "67"
      ],
      "text/markdown": [
       "67"
      ],
      "text/plain": [
       "[1] 67"
      ]
     },
     "metadata": {},
     "output_type": "display_data"
    }
   ],
   "source": [
    "grep('Leaf_11PM_9_14_22_R1_NCC_KK_lgd', colnames(dataframes[[2]]))\n",
    "grep('Leaf_11PM_9_14_22_R3_NCC_KM_lgd', colnames(dataframes[[2]]))\n",
    "grep('Leaf_1AM_9_15_22_R1_NCC_KN_lgd', colnames(dataframes[[2]]))\n",
    "grep('Leaf_1AM_9_15_22_R2_NCC_KO_lgd', colnames(dataframes[[2]]))\n",
    "grep('Leaf_1AM_9_15_22_R3_NCC_KP_lgd', colnames(dataframes[[2]]))\n",
    "\n"
   ]
  },
  {
   "cell_type": "code",
   "execution_count": 12,
   "id": "d0a69d69-0dd4-4f1f-a2fc-fd08141150b0",
   "metadata": {},
   "outputs": [],
   "source": [
    "#Change the time and dates\n",
    "#:::::::::::::::::::::::::::::\n",
    "colnames(dataframes[[2]][63]) <- 'Leaf_1AM_9_15_22_R1_NCC_KK_lgd'\n",
    "colnames(dataframes[[2]][64]) <- 'Leaf_1AM_9_15_22_R3_NCC_KM_lgd'\n",
    "colnames(dataframes[[2]][65]) <- 'Leaf_11PM_9_14_22_R1_NCC_KN_lgd'\n",
    "colnames(dataframes[[2]][66]) <- 'Leaf_11PM_9_14_22_R2_NCC_KO_lgd'\n",
    "colnames(dataframes[[2]][67]) <- 'Leaf_11PM_9_14_22_R3_NCC_KP_lgd'"
   ]
  },
  {
   "cell_type": "code",
   "execution_count": 13,
   "id": "557115f6-4c2a-4e49-b0f2-34cf27a02cc0",
   "metadata": {},
   "outputs": [
    {
     "data": {
      "text/html": [
       "<table class=\"dataframe\">\n",
       "<caption>A data.frame: 6 × 10</caption>\n",
       "<thead>\n",
       "\t<tr><th></th><th scope=col>Leaf_1AM_R1_NCC_CC_shd</th><th scope=col>Leaf_1AM_R2_NCC_CD_shd</th><th scope=col>Leaf_1AM_R3_NCC_CE_shd</th><th scope=col>Leaf_1AM_9_15_22_R1_NCC_KN_lgd</th><th scope=col>Leaf_1AM_9_15_22_R2_NCC_KO_lgd</th><th scope=col>Leaf_1AM_9_15_22_R3_NCC_KP_lgd</th><th scope=col>Leaf_11PM_R2_NCC_BX_shd</th><th scope=col>Leaf_11PM_R3_NCC_BY_shd</th><th scope=col>Leaf_11PM_9_14_22_R1_NCC_KK_lgd</th><th scope=col>Leaf_11PM_9_14_22_R3_NCC_KM_lgd</th></tr>\n",
       "\t<tr><th></th><th scope=col>&lt;dbl&gt;</th><th scope=col>&lt;dbl&gt;</th><th scope=col>&lt;dbl&gt;</th><th scope=col>&lt;dbl&gt;</th><th scope=col>&lt;dbl&gt;</th><th scope=col>&lt;dbl&gt;</th><th scope=col>&lt;dbl&gt;</th><th scope=col>&lt;dbl&gt;</th><th scope=col>&lt;dbl&gt;</th><th scope=col>&lt;dbl&gt;</th></tr>\n",
       "</thead>\n",
       "<tbody>\n",
       "\t<tr><th scope=row>1</th><td> 0.000000</td><td> 0.000000</td><td> 0.000000</td><td> 0.000000</td><td> 0.000000</td><td> 0.000000</td><td> 0.000000</td><td> 0.000000</td><td> 0.000000</td><td> 0.000000</td></tr>\n",
       "\t<tr><th scope=row>2</th><td> 0.000000</td><td> 0.000000</td><td> 0.000000</td><td> 0.000000</td><td> 0.000000</td><td> 0.000000</td><td> 0.000000</td><td> 0.000000</td><td> 0.000000</td><td> 0.000000</td></tr>\n",
       "\t<tr><th scope=row>3</th><td>10.678353</td><td>10.808532</td><td>10.721815</td><td>10.676241</td><td>10.745977</td><td>10.713415</td><td>10.791129</td><td>10.982089</td><td>10.554355</td><td>10.586426</td></tr>\n",
       "\t<tr><th scope=row>4</th><td>13.254997</td><td>13.007953</td><td>12.822098</td><td>12.894443</td><td>12.735986</td><td>12.910751</td><td>12.698930</td><td>12.764254</td><td>12.904739</td><td>12.926727</td></tr>\n",
       "\t<tr><th scope=row>5</th><td> 7.791589</td><td> 7.567323</td><td> 7.341418</td><td> 7.297013</td><td> 7.781469</td><td> 7.587326</td><td> 7.954517</td><td> 7.426071</td><td> 7.460753</td><td> 7.476845</td></tr>\n",
       "\t<tr><th scope=row>6</th><td> 8.982410</td><td> 9.668315</td><td> 9.797556</td><td>10.464474</td><td>10.222388</td><td>10.719239</td><td> 9.544242</td><td> 9.122572</td><td>10.410422</td><td> 9.945840</td></tr>\n",
       "</tbody>\n",
       "</table>\n"
      ],
      "text/latex": [
       "A data.frame: 6 × 10\n",
       "\\begin{tabular}{r|llllllllll}\n",
       "  & Leaf\\_1AM\\_R1\\_NCC\\_CC\\_shd & Leaf\\_1AM\\_R2\\_NCC\\_CD\\_shd & Leaf\\_1AM\\_R3\\_NCC\\_CE\\_shd & Leaf\\_1AM\\_9\\_15\\_22\\_R1\\_NCC\\_KN\\_lgd & Leaf\\_1AM\\_9\\_15\\_22\\_R2\\_NCC\\_KO\\_lgd & Leaf\\_1AM\\_9\\_15\\_22\\_R3\\_NCC\\_KP\\_lgd & Leaf\\_11PM\\_R2\\_NCC\\_BX\\_shd & Leaf\\_11PM\\_R3\\_NCC\\_BY\\_shd & Leaf\\_11PM\\_9\\_14\\_22\\_R1\\_NCC\\_KK\\_lgd & Leaf\\_11PM\\_9\\_14\\_22\\_R3\\_NCC\\_KM\\_lgd\\\\\n",
       "  & <dbl> & <dbl> & <dbl> & <dbl> & <dbl> & <dbl> & <dbl> & <dbl> & <dbl> & <dbl>\\\\\n",
       "\\hline\n",
       "\t1 &  0.000000 &  0.000000 &  0.000000 &  0.000000 &  0.000000 &  0.000000 &  0.000000 &  0.000000 &  0.000000 &  0.000000\\\\\n",
       "\t2 &  0.000000 &  0.000000 &  0.000000 &  0.000000 &  0.000000 &  0.000000 &  0.000000 &  0.000000 &  0.000000 &  0.000000\\\\\n",
       "\t3 & 10.678353 & 10.808532 & 10.721815 & 10.676241 & 10.745977 & 10.713415 & 10.791129 & 10.982089 & 10.554355 & 10.586426\\\\\n",
       "\t4 & 13.254997 & 13.007953 & 12.822098 & 12.894443 & 12.735986 & 12.910751 & 12.698930 & 12.764254 & 12.904739 & 12.926727\\\\\n",
       "\t5 &  7.791589 &  7.567323 &  7.341418 &  7.297013 &  7.781469 &  7.587326 &  7.954517 &  7.426071 &  7.460753 &  7.476845\\\\\n",
       "\t6 &  8.982410 &  9.668315 &  9.797556 & 10.464474 & 10.222388 & 10.719239 &  9.544242 &  9.122572 & 10.410422 &  9.945840\\\\\n",
       "\\end{tabular}\n"
      ],
      "text/markdown": [
       "\n",
       "A data.frame: 6 × 10\n",
       "\n",
       "| <!--/--> | Leaf_1AM_R1_NCC_CC_shd &lt;dbl&gt; | Leaf_1AM_R2_NCC_CD_shd &lt;dbl&gt; | Leaf_1AM_R3_NCC_CE_shd &lt;dbl&gt; | Leaf_1AM_9_15_22_R1_NCC_KN_lgd &lt;dbl&gt; | Leaf_1AM_9_15_22_R2_NCC_KO_lgd &lt;dbl&gt; | Leaf_1AM_9_15_22_R3_NCC_KP_lgd &lt;dbl&gt; | Leaf_11PM_R2_NCC_BX_shd &lt;dbl&gt; | Leaf_11PM_R3_NCC_BY_shd &lt;dbl&gt; | Leaf_11PM_9_14_22_R1_NCC_KK_lgd &lt;dbl&gt; | Leaf_11PM_9_14_22_R3_NCC_KM_lgd &lt;dbl&gt; |\n",
       "|---|---|---|---|---|---|---|---|---|---|---|\n",
       "| 1 |  0.000000 |  0.000000 |  0.000000 |  0.000000 |  0.000000 |  0.000000 |  0.000000 |  0.000000 |  0.000000 |  0.000000 |\n",
       "| 2 |  0.000000 |  0.000000 |  0.000000 |  0.000000 |  0.000000 |  0.000000 |  0.000000 |  0.000000 |  0.000000 |  0.000000 |\n",
       "| 3 | 10.678353 | 10.808532 | 10.721815 | 10.676241 | 10.745977 | 10.713415 | 10.791129 | 10.982089 | 10.554355 | 10.586426 |\n",
       "| 4 | 13.254997 | 13.007953 | 12.822098 | 12.894443 | 12.735986 | 12.910751 | 12.698930 | 12.764254 | 12.904739 | 12.926727 |\n",
       "| 5 |  7.791589 |  7.567323 |  7.341418 |  7.297013 |  7.781469 |  7.587326 |  7.954517 |  7.426071 |  7.460753 |  7.476845 |\n",
       "| 6 |  8.982410 |  9.668315 |  9.797556 | 10.464474 | 10.222388 | 10.719239 |  9.544242 |  9.122572 | 10.410422 |  9.945840 |\n",
       "\n"
      ],
      "text/plain": [
       "  Leaf_1AM_R1_NCC_CC_shd Leaf_1AM_R2_NCC_CD_shd Leaf_1AM_R3_NCC_CE_shd\n",
       "1  0.000000               0.000000               0.000000             \n",
       "2  0.000000               0.000000               0.000000             \n",
       "3 10.678353              10.808532              10.721815             \n",
       "4 13.254997              13.007953              12.822098             \n",
       "5  7.791589               7.567323               7.341418             \n",
       "6  8.982410               9.668315               9.797556             \n",
       "  Leaf_1AM_9_15_22_R1_NCC_KN_lgd Leaf_1AM_9_15_22_R2_NCC_KO_lgd\n",
       "1  0.000000                       0.000000                     \n",
       "2  0.000000                       0.000000                     \n",
       "3 10.676241                      10.745977                     \n",
       "4 12.894443                      12.735986                     \n",
       "5  7.297013                       7.781469                     \n",
       "6 10.464474                      10.222388                     \n",
       "  Leaf_1AM_9_15_22_R3_NCC_KP_lgd Leaf_11PM_R2_NCC_BX_shd\n",
       "1  0.000000                       0.000000              \n",
       "2  0.000000                       0.000000              \n",
       "3 10.713415                      10.791129              \n",
       "4 12.910751                      12.698930              \n",
       "5  7.587326                       7.954517              \n",
       "6 10.719239                       9.544242              \n",
       "  Leaf_11PM_R3_NCC_BY_shd Leaf_11PM_9_14_22_R1_NCC_KK_lgd\n",
       "1  0.000000                0.000000                      \n",
       "2  0.000000                0.000000                      \n",
       "3 10.982089               10.554355                      \n",
       "4 12.764254               12.904739                      \n",
       "5  7.426071                7.460753                      \n",
       "6  9.122572               10.410422                      \n",
       "  Leaf_11PM_9_14_22_R3_NCC_KM_lgd\n",
       "1  0.000000                      \n",
       "2  0.000000                      \n",
       "3 10.586426                      \n",
       "4 12.926727                      \n",
       "5  7.476845                      \n",
       "6  9.945840                      "
      ]
     },
     "metadata": {},
     "output_type": "display_data"
    }
   ],
   "source": [
    "dataframes[[2]] %>% select(contains(c('_1AM', '_11PM'))) %>% head() "
   ]
  },
  {
   "cell_type": "code",
   "execution_count": null,
   "id": "0abbcbd4-30d8-4a67-b70d-0ecd5d0e2c4e",
   "metadata": {},
   "outputs": [],
   "source": []
  },
  {
   "cell_type": "markdown",
   "id": "1cd890e2-0e5e-4f0a-80d3-891ee374ad2e",
   "metadata": {},
   "source": [
    "### Modifications to pivot longer\n",
    "\n",
    "Change time to ZT, taking into account the issue with the 7AM and 9AM time points "
   ]
  },
  {
   "cell_type": "code",
   "execution_count": 14,
   "id": "dcaf43fc-859d-410b-b982-498c133345cf",
   "metadata": {},
   "outputs": [],
   "source": [
    "for (i in 1:length(files_list)) {\n",
    " \n",
    "    names(dataframes[[i]]) <- sub(\"7AM_start_\", \"ZT0_\", names(dataframes[[i]]))\n",
    "    names(dataframes[[i]]) <- sub(\"7AM_end_\", \"ZT24_\", names(dataframes[[i]]))\n",
    "    names(dataframes[[i]]) <- sub(\"7am_start_\", \"ZT0_\", names(dataframes[[i]]))\n",
    "    names(dataframes[[i]]) <- sub(\"7am_end_\", \"ZT24_\", names(dataframes[[i]]))\n",
    "    names(dataframes[[i]]) <- sub(\"7AM_10_26_22_\", \"ZT0_\", names(dataframes[[i]]))\n",
    "    names(dataframes[[i]]) <- sub(\"7AM_10_27_22_\", \"ZT24_\", names(dataframes[[i]]))\n",
    "    names(dataframes[[i]]) <- sub(\"7AM_9_14_22_\", \"ZT0_\", names(dataframes[[i]]))\n",
    "    names(dataframes[[i]]) <- sub(\"7AM_9_15_22_\", \"ZT24_\", names(dataframes[[i]]))\n",
    "    names(dataframes[[i]]) <- sub(\"7AM_8_2_22_\", \"ZT0_\", names(dataframes[[i]]))\n",
    "    names(dataframes[[i]]) <- sub(\"7AM_8_3_22_\", \"ZT24_\", names(dataframes[[i]]))\n",
    "     \n",
    "\n",
    "    \n",
    "     \n",
    "\n",
    "\n",
    "     }\n",
    "     \n",
    "     \n",
    "     \n",
    "     \n",
    "     \n",
    "     \n",
    "     \n",
    "     \n",
    "     \n",
    "     \n",
    "     \n",
    "     "
   ]
  },
  {
   "cell_type": "markdown",
   "id": "5345f829-05f9-4ec5-af81-055cae62f2e2",
   "metadata": {},
   "source": [
    "#### NOT NEEDED FOR DIEL DATA\n",
    "#::::::::::::::::::::::::::::::::     \n",
    "\n",
    "#For CND LL data\n",
    "     \n",
    "    names(dataframes[[i]]) <- sub(\"7PM_10_4_21_\", \"ZT12_\", names(dataframes[[i]]))\n",
    "    names(dataframes[[i]]) <- sub(\"9PM_10_4_21_\", \"ZT14_\", names(dataframes[[i]]))\n",
    "     \n",
    " names(dataframes[[i]]) <- sub(\"_11PM_10_4_21_\", \"_ZT16_\", names(dataframes[[i]]))\n",
    "    names(dataframes[[i]]) <- sub(\"_1AM_10_5_21_\", \"_ZT18_\", names(dataframes[[i]]))\n",
    "      names(dataframes[[i]]) <- sub(\"3AM_10_5_21_\", \"ZT20_\", names(dataframes[[i]]))\n",
    "      names(dataframes[[i]]) <- sub(\"5AM_10_5_21_\", \"ZT22_\", names(dataframes[[i]]))\n",
    "      names(dataframes[[i]]) <- sub(\"7AM_10_5_21_\", \"ZT24_\", names(dataframes[[i]]))\n",
    "         names(dataframes[[i]]) <- sub(\"9AM_10_5_21_\", \"ZT26_\", names(dataframes[[i]]))\n",
    "      names(dataframes[[i]]) <- sub(\"_11AM_10_5_21_\", \"_ZT28_\", names(dataframes[[i]]))\n",
    "      names(dataframes[[i]]) <- sub(\"_1PM_10_5_21_\", \"_ZT30_\", names(dataframes[[i]]))\n",
    "      names(dataframes[[i]]) <- sub(\"3PM_10_5_21_\", \"ZT32_\", names(dataframes[[i]]))\n",
    "         names(dataframes[[i]]) <- sub(\"5PM_10_5_21_\", \"ZT34_\", names(dataframes[[i]]))\n",
    "         names(dataframes[[i]]) <- sub(\"7PM_10_5_21_\", \"ZT36_\", names(dataframes[[i]]))    \n",
    "     names(dataframes[[i]]) <- sub(\"9PM_10_5_21_\", \"ZT38_\", names(dataframes[[i]]))\n",
    "        names(dataframes[[i]]) <- sub(\"_11PM_10_5_21_\", \"_ZT40_\", names(dataframes[[i]]))\n",
    "            names(dataframes[[i]]) <- sub(\"1AM_10_6_21_\", \"ZT42_\", names(dataframes[[i]]))\n",
    "       names(dataframes[[i]]) <- sub(\"3AM_10_6_21_\", \"ZT44_\", names(dataframes[[i]]))\n",
    "       names(dataframes[[i]]) <- sub(\"5AM_10_6_21_\", \"ZT46_\", names(dataframes[[i]]))\n",
    "       names(dataframes[[i]]) <- sub(\"7AM_10_6_21_\", \"ZT48_\", names(dataframes[[i]]))\n",
    "      names(dataframes[[i]]) <- sub(\"9AM_10_6_21_\", \"ZT50_\", names(dataframes[[i]]))\n",
    "     names(dataframes[[i]]) <- sub(\"_11AM_10_6_21_\", \"_ZT52_\", names(dataframes[[i]]))\n",
    "      names(dataframes[[i]]) <- sub(\"_1PM_10_6_21_\", \"_ZT54_\", names(dataframes[[i]]))\n",
    "     names(dataframes[[i]]) <- sub(\"_3PM_10_6_21_\", \"_ZT56_\", names(dataframes[[i]]))\n",
    "     names(dataframes[[i]]) <- sub(\"_5PM_10_6_21_\", \"_ZT58_\", names(dataframes[[i]]))"
   ]
  },
  {
   "cell_type": "markdown",
   "id": "a687af1f-08f4-4b3b-b35c-b9b155941884",
   "metadata": {},
   "source": [
    "#### NOT NEEDED FOR DIEL DATA\n",
    "#::::::::::::::::::::::::::::::::\n",
    "\n",
    "for (i in 1:length(files_list)) {\n",
    "\n",
    "     \n",
    "#For M6 LL data\n",
    "     \n",
    "    names(dataframes[[i]]) <- sub(\"7PM_7_6_21_\", \"ZT12_\", names(dataframes[[i]]))\n",
    "    names(dataframes[[i]]) <- sub(\"9PM_7_6_21_\", \"ZT14_\", names(dataframes[[i]]))\n",
    "     \n",
    " names(dataframes[[i]]) <- sub(\"_11PM_7_6_21_\", \"_ZT16_\", names(dataframes[[i]]))\n",
    "    names(dataframes[[i]]) <- sub(\"_1AM_7_7_21_\", \"_ZT18_\", names(dataframes[[i]]))\n",
    "      names(dataframes[[i]]) <- sub(\"3AM_7_7_21_\", \"ZT20_\", names(dataframes[[i]]))\n",
    "      names(dataframes[[i]]) <- sub(\"5AM_7_7_21_\", \"ZT22_\", names(dataframes[[i]]))\n",
    "      names(dataframes[[i]]) <- sub(\"7AM_7_7_21_\", \"ZT24_\", names(dataframes[[i]]))\n",
    "         names(dataframes[[i]]) <- sub(\"9AM_7_7_21_\", \"ZT26_\", names(dataframes[[i]]))\n",
    "      names(dataframes[[i]]) <- sub(\"_11AM_7_7_21_\", \"_ZT28_\", names(dataframes[[i]]))\n",
    "      names(dataframes[[i]]) <- sub(\"_1PM_7_7_21_\", \"_ZT30_\", names(dataframes[[i]]))\n",
    "      names(dataframes[[i]]) <- sub(\"3PM_7_7_21_\", \"ZT32_\", names(dataframes[[i]]))\n",
    "         names(dataframes[[i]]) <- sub(\"5PM_7_7_21_\", \"ZT34_\", names(dataframes[[i]]))\n",
    "         names(dataframes[[i]]) <- sub(\"7PM_7_7_21_\", \"ZT36_\", names(dataframes[[i]]))    \n",
    "     names(dataframes[[i]]) <- sub(\"9PM_7_7_21_\", \"ZT38_\", names(dataframes[[i]]))\n",
    "        names(dataframes[[i]]) <- sub(\"_11PM_7_7_21_\", \"_ZT40_\", names(dataframes[[i]]))\n",
    "            names(dataframes[[i]]) <- sub(\"_1AM_7_8_21_\", \"_ZT42_\", names(dataframes[[i]]))\n",
    "       names(dataframes[[i]]) <- sub(\"3AM_7_8_21_\", \"ZT44_\", names(dataframes[[i]]))\n",
    "       names(dataframes[[i]]) <- sub(\"5AM_7_8_21_\", \"ZT46_\", names(dataframes[[i]]))\n",
    "       names(dataframes[[i]]) <- sub(\"7AM_7_8_21_\", \"ZT48_\", names(dataframes[[i]]))\n",
    "     names(dataframes[[i]]) <- sub(\"9AM_7_8_21_\", \"ZT50_\", names(dataframes[[i]]))\n",
    "     names(dataframes[[i]]) <- sub(\"_11AM_7_8_21_\", \"_ZT52_\", names(dataframes[[i]]))\n",
    "      names(dataframes[[i]]) <- sub(\"_1PM_7_8_21_\", \"_ZT54_\", names(dataframes[[i]]))\n",
    "     names(dataframes[[i]]) <- sub(\"_3PM_7_8_21_\", \"_ZT56_\", names(dataframes[[i]]))\n",
    "     names(dataframes[[i]]) <- sub(\"_5PM_7_8_21_\", \"_ZT58_\", names(dataframes[[i]]))\n",
    "    \n",
    "     \n",
    "\n",
    "\n",
    "     }\n",
    "     "
   ]
  },
  {
   "cell_type": "markdown",
   "id": "02bbb401-07e8-467c-9c8a-80fb70c801a9",
   "metadata": {},
   "source": [
    "\n",
    "#### NOT NEEDED FOR DIEL DATA\n",
    "#::::::::::::::::::::::::::::::::\n",
    "\n",
    "\n",
    "for (i in 1:length(files_list)) {\n",
    "\n",
    "     \n",
    "#For ATL LL data\n",
    "     \n",
    "    names(dataframes[[i]]) <- sub(\"7PM_12_16_20_\", \"ZT12_\", names(dataframes[[i]]))\n",
    "    names(dataframes[[i]]) <- sub(\"9PM_12_16_20_\", \"ZT14_\", names(dataframes[[i]]))\n",
    "     \n",
    " names(dataframes[[i]]) <- sub(\"_11PM_12_16_20_\", \"_ZT16_\", names(dataframes[[i]]))\n",
    "    names(dataframes[[i]]) <- sub(\"_1AM_12_17_20_\", \"_ZT18_\", names(dataframes[[i]]))\n",
    "      names(dataframes[[i]]) <- sub(\"3AM_12_17_20_\", \"ZT20_\", names(dataframes[[i]]))\n",
    "      names(dataframes[[i]]) <- sub(\"5AM_12_17_20_\", \"ZT22_\", names(dataframes[[i]]))\n",
    "      names(dataframes[[i]]) <- sub(\"7AM_12_17_20_\", \"ZT24_\", names(dataframes[[i]]))\n",
    "         names(dataframes[[i]]) <- sub(\"9AM_12_17_20_\", \"ZT26_\", names(dataframes[[i]]))\n",
    "      names(dataframes[[i]]) <- sub(\"_11AM_12_17_20_\", \"_ZT28_\", names(dataframes[[i]]))\n",
    "      names(dataframes[[i]]) <- sub(\"_1PM_12_17_20_\", \"_ZT30_\", names(dataframes[[i]]))\n",
    "      names(dataframes[[i]]) <- sub(\"3PM_12_17_20_\", \"ZT32_\", names(dataframes[[i]]))\n",
    "         names(dataframes[[i]]) <- sub(\"5PM_12_17_20_\", \"ZT34_\", names(dataframes[[i]]))\n",
    "         names(dataframes[[i]]) <- sub(\"7PM_12_17_20_\", \"ZT36_\", names(dataframes[[i]]))    \n",
    "     names(dataframes[[i]]) <- sub(\"9PM_12_17_20_\", \"ZT38_\", names(dataframes[[i]]))\n",
    "        names(dataframes[[i]]) <- sub(\"_11PM_12_17_20_\", \"_ZT40_\", names(dataframes[[i]]))\n",
    "            names(dataframes[[i]]) <- sub(\"_1AM_12_18_20_\", \"_ZT42_\", names(dataframes[[i]]))\n",
    "       names(dataframes[[i]]) <- sub(\"3AM_12_18_20_\", \"ZT44_\", names(dataframes[[i]]))\n",
    "       names(dataframes[[i]]) <- sub(\"5AM_12_18_20_\", \"ZT46_\", names(dataframes[[i]]))\n",
    "       names(dataframes[[i]]) <- sub(\"7AM_12_18_20_\", \"ZT48_\", names(dataframes[[i]]))\n",
    "     names(dataframes[[i]]) <- sub(\"9AM_12_18_20_\", \"ZT50_\", names(dataframes[[i]]))\n",
    "     names(dataframes[[i]]) <- sub(\"_11AM_12_18_20_\", \"_ZT52_\", names(dataframes[[i]]))\n",
    "      names(dataframes[[i]]) <- sub(\"_1PM_12_18_20_\", \"_ZT54_\", names(dataframes[[i]]))\n",
    "     names(dataframes[[i]]) <- sub(\"_3PM_12_18_20_\", \"_ZT56_\", names(dataframes[[i]]))\n",
    "     names(dataframes[[i]]) <- sub(\"_5PM_12_18_20_\", \"_ZT58_\", names(dataframes[[i]]))\n",
    "    \n",
    "     \n",
    "\n",
    "\n",
    "     }\n",
    "     "
   ]
  },
  {
   "cell_type": "code",
   "execution_count": 15,
   "id": "5821e2e9-55fe-4cf2-9046-c59d35fc84cc",
   "metadata": {},
   "outputs": [],
   "source": [
    "for (i in 1:length(files_list)) {\n",
    "names(dataframes[[i]]) <- sub(\"10_26_22_\", \"\", names(dataframes[[i]]))\n",
    "names(dataframes[[i]]) <- sub(\"10_27_22_\", \"\", names(dataframes[[i]]))\n",
    "names(dataframes[[i]]) <- sub(\"9_14_22_\", \"\", names(dataframes[[i]]))\n",
    "names(dataframes[[i]]) <- sub(\"9_15_22_\", \"\", names(dataframes[[i]]))\n",
    "names(dataframes[[i]]) <- sub(\"8_2_22_\", \"\", names(dataframes[[i]]))\n",
    "names(dataframes[[i]]) <- sub(\"8_3_22_\", \"\", names(dataframes[[i]]))\n",
    "    }"
   ]
  },
  {
   "cell_type": "code",
   "execution_count": 16,
   "id": "807bed3f-2981-4560-b6bf-65247e270636",
   "metadata": {},
   "outputs": [],
   "source": [
    "for (i in 1:length(files_list)) {\n",
    "names(dataframes[[i]]) <- sub(\"_9am_\", \"_ZT2_\", names(dataframes[[i]]))\n",
    "names(dataframes[[i]]) <- sub(\"_9AM_\", \"_ZT2_\", names(dataframes[[i]]))\n",
    "names(dataframes[[i]]) <- sub(\"_11am_\", \"_ZT4_\", names(dataframes[[i]]))\n",
    "names(dataframes[[i]]) <- sub(\"_11AM_\", \"_ZT4_\", names(dataframes[[i]]))\n",
    "names(dataframes[[i]]) <- sub(\"_1pm_\", \"_ZT6_\", names(dataframes[[i]]))\n",
    "names(dataframes[[i]]) <- sub(\"_1PM_\", \"_ZT6_\", names(dataframes[[i]]))\n",
    "names(dataframes[[i]]) <- sub(\"_3pm_\", \"_ZT8_\", names(dataframes[[i]]))\n",
    "names(dataframes[[i]]) <- sub(\"_3PM_\", \"_ZT8_\", names(dataframes[[i]]))\n",
    "names(dataframes[[i]]) <- sub(\"_5pm_\", \"_ZT10_\", names(dataframes[[i]]))\n",
    "names(dataframes[[i]]) <- sub(\"_5PM_\", \"_ZT10_\", names(dataframes[[i]]))\n",
    "names(dataframes[[i]]) <- sub(\"_7pm_\", \"_ZT12_\", names(dataframes[[i]]))\n",
    "names(dataframes[[i]]) <- sub(\"_7PM_\", \"_ZT12_\", names(dataframes[[i]]))\n",
    "names(dataframes[[i]]) <- sub(\"_9pm_\", \"_ZT14_\", names(dataframes[[i]]))\n",
    "names(dataframes[[i]]) <- sub(\"_9PM_\", \"_ZT14_\", names(dataframes[[i]]))\n",
    "names(dataframes[[i]]) <- sub(\"_11pm_\", \"_ZT16_\", names(dataframes[[i]]))\n",
    "names(dataframes[[i]]) <- sub(\"_11PM_\", \"_ZT16_\", names(dataframes[[i]]))\n",
    "names(dataframes[[i]]) <- sub(\"_1am_\", \"_ZT18_\", names(dataframes[[i]]))\n",
    "names(dataframes[[i]]) <- sub(\"_1AM_\", \"_ZT18_\", names(dataframes[[i]]))\n",
    "names(dataframes[[i]]) <- sub(\"_3am_\", \"_ZT20_\", names(dataframes[[i]]))\n",
    "names(dataframes[[i]]) <- sub(\"_3AM_\", \"_ZT20_\", names(dataframes[[i]]))\n",
    "names(dataframes[[i]]) <- sub(\"_5am_\", \"_ZT22_\", names(dataframes[[i]]))\n",
    "names(dataframes[[i]]) <- sub(\"_5AM_\", \"_ZT22_\", names(dataframes[[i]]))\n",
    "names(dataframes[[i]]) <- sub(\"_7am_\", \"_ZT24_\", names(dataframes[[i]]))\n",
    "names(dataframes[[i]]) <- sub(\"_7AM_\", \"_ZT24_\", names(dataframes[[i]]))\n",
    "    }"
   ]
  },
  {
   "cell_type": "code",
   "execution_count": 17,
   "id": "22e3457a-0390-4194-9c9d-3e6fa7ba4a02",
   "metadata": {},
   "outputs": [
    {
     "data": {
      "text/html": [
       "<style>\n",
       ".list-inline {list-style: none; margin:0; padding: 0}\n",
       ".list-inline>li {display: inline-block}\n",
       ".list-inline>li:not(:last-child)::after {content: \"\\00b7\"; padding: 0 .5ex}\n",
       "</style>\n",
       "<ol class=list-inline><li>'geneID'</li><li>'Leaf_ZT0_R1_NCA_AA_shd'</li><li>'Leaf_ZT0_R2_NCA_AB_shd'</li><li>'Leaf_ZT0_R3_NCA_AC_shd'</li><li>'Leaf_ZT2_R1_NCA_AG_shd'</li><li>'Leaf_ZT2_R2_NCA_AH_shd'</li><li>'Leaf_ZT2_R3_NCA_AI_shd'</li><li>'Leaf_ZT4_R1_NCA_AM_shd'</li><li>'Leaf_ZT4_R2_NCA_AN_shd'</li><li>'Leaf_ZT4_R3_NCA_AO_shd'</li><li>'Leaf_ZT6_R1_NCA_AS_shd'</li><li>'Leaf_ZT6_R2_NCA_AT_shd'</li><li>'Leaf_ZT6_R3_NCA_AU_shd'</li><li>'Leaf_ZT8_R1_NCA_AY_shd'</li><li>'Leaf_ZT8_R3_NCA_BA_shd'</li><li>'Leaf_ZT10_R1_NCA_BE_shd'</li><li>'Leaf_ZT10_R2_NCA_BF_shd'</li><li>'Leaf_ZT10_R3_NCA_BG_shd'</li><li>'Leaf_ZT12_R1_NCA_BK_shd'</li><li>'Leaf_ZT12_R2_NCA_BL_shd'</li><li>'Leaf_ZT12_R3_NCA_BM_shd'</li><li>'Leaf_ZT14_R1_NCA_BQ_shd'</li><li>'Leaf_ZT14_R2_NCA_BR_shd'</li><li>'Leaf_ZT14_R3_NCA_BS_shd'</li><li>'Leaf_ZT16_R1_NCA_BW_shd'</li><li>'Leaf_ZT16_R2_NCA_BX_shd'</li><li>'Leaf_ZT16_R3_NCA_BY_shd'</li><li>'Leaf_ZT18_R1_NCA_CC_shd'</li><li>'Leaf_ZT18_R2_NCA_CD_shd'</li><li>'Leaf_ZT18_R3_NCA_CE_shd'</li><li>'Leaf_ZT18_R4_NCA_CF_shd'</li><li>'Leaf_ZT20_R1_NCA_CK_shd'</li><li>'Leaf_ZT20_R2_NCA_CL_shd'</li><li>'Leaf_ZT20_R3_NCA_CM_shd'</li><li>'Leaf_ZT22_R1_NCA_CQ_shd'</li><li>'Leaf_ZT22_R2_NCA_CR_shd'</li><li>'Leaf_ZT22_R3_NCA_CS_shd'</li><li>'Leaf_ZT24_R1_NCA_CW_shd'</li><li>'Leaf_ZT24_R2_NCA_CX_shd'</li><li>'Leaf_ZT24_R3_NCA_CY_shd'</li><li>'Leaf_ZT0_R1_NCA_DC_lgd'</li><li>'Leaf_ZT0_R2_NCA_DD_lgd'</li><li>'Leaf_ZT0_R3_NCA_DE_lgd'</li><li>'Leaf_ZT2_R1_NCA_DF_lgd'</li><li>'Leaf_ZT2_R2_NCA_DG_lgd'</li><li>'Leaf_ZT2_R3_NCA_DH_lgd'</li><li>'Leaf_ZT4_R1_NCA_DI_lgd'</li><li>'Leaf_ZT4_R2_NCA_DJ_lgd'</li><li>'Leaf_ZT4_R3_NCA_DK_lgd'</li><li>'Leaf_ZT6_R1_NCA_DL_lgd'</li><li>'Leaf_ZT6_R2_NCA_DM_lgd'</li><li>'Leaf_ZT6_R3_NCA_DN_lgd'</li><li>'Leaf_ZT8_R1_NCA_DO_lgd'</li><li>'Leaf_ZT8_R2_NCA_DP_lgd'</li><li>'Leaf_ZT8_R3_NCA_DQ_lgd'</li><li>'Leaf_ZT10_R1_NCA_DR_lgd'</li><li>'Leaf_ZT10_R2_NCA_DS_lgd'</li><li>'Leaf_ZT10_R3_NCA_DT_lgd'</li><li>'Leaf_ZT12_R1_NCA_DU_lgd'</li><li>'Leaf_ZT12_R2_NCA_DV_lgd'</li><li>'Leaf_ZT12_R3_NCA_DW_lgd'</li><li>'Leaf_ZT14_R1_NCA_DX_lgd'</li><li>'Leaf_ZT14_R2_NCA_DY_lgd'</li><li>'Leaf_ZT14_R3_NCA_DZ_lgd'</li><li>'Leaf_ZT16_R1_NCA_EA_lgd'</li><li>'Leaf_ZT16_R2_NCA_EB_lgd'</li><li>'Leaf_ZT16_R3_NCA_EC_lgd'</li><li>'Leaf_ZT18_R1_NCA_ED_lgd'</li><li>'Leaf_ZT18_R2_NCA_EE_lgd'</li><li>'Leaf_ZT18_R3_NCA_EF_lgd'</li><li>'Leaf_ZT20_R1_NCA_EG_lgd'</li><li>'Leaf_ZT20_R2_NCA_EH_lgd'</li><li>'Leaf_ZT20_R3_NCA_EI_lgd'</li><li>'Leaf_ZT22_R1_NCA_EJ_lgd'</li><li>'Leaf_ZT22_R2_NCA_EK_lgd'</li><li>'Leaf_ZT22_R3_NCA_EL_lgd'</li><li>'Leaf_ZT24_R1_NCA_EM_lgd'</li><li>'Leaf_ZT24_R2_NCA_EN_lgd'</li><li>'Leaf_ZT24_R3_NCA_EO_lgd'</li></ol>\n"
      ],
      "text/latex": [
       "\\begin{enumerate*}\n",
       "\\item 'geneID'\n",
       "\\item 'Leaf\\_ZT0\\_R1\\_NCA\\_AA\\_shd'\n",
       "\\item 'Leaf\\_ZT0\\_R2\\_NCA\\_AB\\_shd'\n",
       "\\item 'Leaf\\_ZT0\\_R3\\_NCA\\_AC\\_shd'\n",
       "\\item 'Leaf\\_ZT2\\_R1\\_NCA\\_AG\\_shd'\n",
       "\\item 'Leaf\\_ZT2\\_R2\\_NCA\\_AH\\_shd'\n",
       "\\item 'Leaf\\_ZT2\\_R3\\_NCA\\_AI\\_shd'\n",
       "\\item 'Leaf\\_ZT4\\_R1\\_NCA\\_AM\\_shd'\n",
       "\\item 'Leaf\\_ZT4\\_R2\\_NCA\\_AN\\_shd'\n",
       "\\item 'Leaf\\_ZT4\\_R3\\_NCA\\_AO\\_shd'\n",
       "\\item 'Leaf\\_ZT6\\_R1\\_NCA\\_AS\\_shd'\n",
       "\\item 'Leaf\\_ZT6\\_R2\\_NCA\\_AT\\_shd'\n",
       "\\item 'Leaf\\_ZT6\\_R3\\_NCA\\_AU\\_shd'\n",
       "\\item 'Leaf\\_ZT8\\_R1\\_NCA\\_AY\\_shd'\n",
       "\\item 'Leaf\\_ZT8\\_R3\\_NCA\\_BA\\_shd'\n",
       "\\item 'Leaf\\_ZT10\\_R1\\_NCA\\_BE\\_shd'\n",
       "\\item 'Leaf\\_ZT10\\_R2\\_NCA\\_BF\\_shd'\n",
       "\\item 'Leaf\\_ZT10\\_R3\\_NCA\\_BG\\_shd'\n",
       "\\item 'Leaf\\_ZT12\\_R1\\_NCA\\_BK\\_shd'\n",
       "\\item 'Leaf\\_ZT12\\_R2\\_NCA\\_BL\\_shd'\n",
       "\\item 'Leaf\\_ZT12\\_R3\\_NCA\\_BM\\_shd'\n",
       "\\item 'Leaf\\_ZT14\\_R1\\_NCA\\_BQ\\_shd'\n",
       "\\item 'Leaf\\_ZT14\\_R2\\_NCA\\_BR\\_shd'\n",
       "\\item 'Leaf\\_ZT14\\_R3\\_NCA\\_BS\\_shd'\n",
       "\\item 'Leaf\\_ZT16\\_R1\\_NCA\\_BW\\_shd'\n",
       "\\item 'Leaf\\_ZT16\\_R2\\_NCA\\_BX\\_shd'\n",
       "\\item 'Leaf\\_ZT16\\_R3\\_NCA\\_BY\\_shd'\n",
       "\\item 'Leaf\\_ZT18\\_R1\\_NCA\\_CC\\_shd'\n",
       "\\item 'Leaf\\_ZT18\\_R2\\_NCA\\_CD\\_shd'\n",
       "\\item 'Leaf\\_ZT18\\_R3\\_NCA\\_CE\\_shd'\n",
       "\\item 'Leaf\\_ZT18\\_R4\\_NCA\\_CF\\_shd'\n",
       "\\item 'Leaf\\_ZT20\\_R1\\_NCA\\_CK\\_shd'\n",
       "\\item 'Leaf\\_ZT20\\_R2\\_NCA\\_CL\\_shd'\n",
       "\\item 'Leaf\\_ZT20\\_R3\\_NCA\\_CM\\_shd'\n",
       "\\item 'Leaf\\_ZT22\\_R1\\_NCA\\_CQ\\_shd'\n",
       "\\item 'Leaf\\_ZT22\\_R2\\_NCA\\_CR\\_shd'\n",
       "\\item 'Leaf\\_ZT22\\_R3\\_NCA\\_CS\\_shd'\n",
       "\\item 'Leaf\\_ZT24\\_R1\\_NCA\\_CW\\_shd'\n",
       "\\item 'Leaf\\_ZT24\\_R2\\_NCA\\_CX\\_shd'\n",
       "\\item 'Leaf\\_ZT24\\_R3\\_NCA\\_CY\\_shd'\n",
       "\\item 'Leaf\\_ZT0\\_R1\\_NCA\\_DC\\_lgd'\n",
       "\\item 'Leaf\\_ZT0\\_R2\\_NCA\\_DD\\_lgd'\n",
       "\\item 'Leaf\\_ZT0\\_R3\\_NCA\\_DE\\_lgd'\n",
       "\\item 'Leaf\\_ZT2\\_R1\\_NCA\\_DF\\_lgd'\n",
       "\\item 'Leaf\\_ZT2\\_R2\\_NCA\\_DG\\_lgd'\n",
       "\\item 'Leaf\\_ZT2\\_R3\\_NCA\\_DH\\_lgd'\n",
       "\\item 'Leaf\\_ZT4\\_R1\\_NCA\\_DI\\_lgd'\n",
       "\\item 'Leaf\\_ZT4\\_R2\\_NCA\\_DJ\\_lgd'\n",
       "\\item 'Leaf\\_ZT4\\_R3\\_NCA\\_DK\\_lgd'\n",
       "\\item 'Leaf\\_ZT6\\_R1\\_NCA\\_DL\\_lgd'\n",
       "\\item 'Leaf\\_ZT6\\_R2\\_NCA\\_DM\\_lgd'\n",
       "\\item 'Leaf\\_ZT6\\_R3\\_NCA\\_DN\\_lgd'\n",
       "\\item 'Leaf\\_ZT8\\_R1\\_NCA\\_DO\\_lgd'\n",
       "\\item 'Leaf\\_ZT8\\_R2\\_NCA\\_DP\\_lgd'\n",
       "\\item 'Leaf\\_ZT8\\_R3\\_NCA\\_DQ\\_lgd'\n",
       "\\item 'Leaf\\_ZT10\\_R1\\_NCA\\_DR\\_lgd'\n",
       "\\item 'Leaf\\_ZT10\\_R2\\_NCA\\_DS\\_lgd'\n",
       "\\item 'Leaf\\_ZT10\\_R3\\_NCA\\_DT\\_lgd'\n",
       "\\item 'Leaf\\_ZT12\\_R1\\_NCA\\_DU\\_lgd'\n",
       "\\item 'Leaf\\_ZT12\\_R2\\_NCA\\_DV\\_lgd'\n",
       "\\item 'Leaf\\_ZT12\\_R3\\_NCA\\_DW\\_lgd'\n",
       "\\item 'Leaf\\_ZT14\\_R1\\_NCA\\_DX\\_lgd'\n",
       "\\item 'Leaf\\_ZT14\\_R2\\_NCA\\_DY\\_lgd'\n",
       "\\item 'Leaf\\_ZT14\\_R3\\_NCA\\_DZ\\_lgd'\n",
       "\\item 'Leaf\\_ZT16\\_R1\\_NCA\\_EA\\_lgd'\n",
       "\\item 'Leaf\\_ZT16\\_R2\\_NCA\\_EB\\_lgd'\n",
       "\\item 'Leaf\\_ZT16\\_R3\\_NCA\\_EC\\_lgd'\n",
       "\\item 'Leaf\\_ZT18\\_R1\\_NCA\\_ED\\_lgd'\n",
       "\\item 'Leaf\\_ZT18\\_R2\\_NCA\\_EE\\_lgd'\n",
       "\\item 'Leaf\\_ZT18\\_R3\\_NCA\\_EF\\_lgd'\n",
       "\\item 'Leaf\\_ZT20\\_R1\\_NCA\\_EG\\_lgd'\n",
       "\\item 'Leaf\\_ZT20\\_R2\\_NCA\\_EH\\_lgd'\n",
       "\\item 'Leaf\\_ZT20\\_R3\\_NCA\\_EI\\_lgd'\n",
       "\\item 'Leaf\\_ZT22\\_R1\\_NCA\\_EJ\\_lgd'\n",
       "\\item 'Leaf\\_ZT22\\_R2\\_NCA\\_EK\\_lgd'\n",
       "\\item 'Leaf\\_ZT22\\_R3\\_NCA\\_EL\\_lgd'\n",
       "\\item 'Leaf\\_ZT24\\_R1\\_NCA\\_EM\\_lgd'\n",
       "\\item 'Leaf\\_ZT24\\_R2\\_NCA\\_EN\\_lgd'\n",
       "\\item 'Leaf\\_ZT24\\_R3\\_NCA\\_EO\\_lgd'\n",
       "\\end{enumerate*}\n"
      ],
      "text/markdown": [
       "1. 'geneID'\n",
       "2. 'Leaf_ZT0_R1_NCA_AA_shd'\n",
       "3. 'Leaf_ZT0_R2_NCA_AB_shd'\n",
       "4. 'Leaf_ZT0_R3_NCA_AC_shd'\n",
       "5. 'Leaf_ZT2_R1_NCA_AG_shd'\n",
       "6. 'Leaf_ZT2_R2_NCA_AH_shd'\n",
       "7. 'Leaf_ZT2_R3_NCA_AI_shd'\n",
       "8. 'Leaf_ZT4_R1_NCA_AM_shd'\n",
       "9. 'Leaf_ZT4_R2_NCA_AN_shd'\n",
       "10. 'Leaf_ZT4_R3_NCA_AO_shd'\n",
       "11. 'Leaf_ZT6_R1_NCA_AS_shd'\n",
       "12. 'Leaf_ZT6_R2_NCA_AT_shd'\n",
       "13. 'Leaf_ZT6_R3_NCA_AU_shd'\n",
       "14. 'Leaf_ZT8_R1_NCA_AY_shd'\n",
       "15. 'Leaf_ZT8_R3_NCA_BA_shd'\n",
       "16. 'Leaf_ZT10_R1_NCA_BE_shd'\n",
       "17. 'Leaf_ZT10_R2_NCA_BF_shd'\n",
       "18. 'Leaf_ZT10_R3_NCA_BG_shd'\n",
       "19. 'Leaf_ZT12_R1_NCA_BK_shd'\n",
       "20. 'Leaf_ZT12_R2_NCA_BL_shd'\n",
       "21. 'Leaf_ZT12_R3_NCA_BM_shd'\n",
       "22. 'Leaf_ZT14_R1_NCA_BQ_shd'\n",
       "23. 'Leaf_ZT14_R2_NCA_BR_shd'\n",
       "24. 'Leaf_ZT14_R3_NCA_BS_shd'\n",
       "25. 'Leaf_ZT16_R1_NCA_BW_shd'\n",
       "26. 'Leaf_ZT16_R2_NCA_BX_shd'\n",
       "27. 'Leaf_ZT16_R3_NCA_BY_shd'\n",
       "28. 'Leaf_ZT18_R1_NCA_CC_shd'\n",
       "29. 'Leaf_ZT18_R2_NCA_CD_shd'\n",
       "30. 'Leaf_ZT18_R3_NCA_CE_shd'\n",
       "31. 'Leaf_ZT18_R4_NCA_CF_shd'\n",
       "32. 'Leaf_ZT20_R1_NCA_CK_shd'\n",
       "33. 'Leaf_ZT20_R2_NCA_CL_shd'\n",
       "34. 'Leaf_ZT20_R3_NCA_CM_shd'\n",
       "35. 'Leaf_ZT22_R1_NCA_CQ_shd'\n",
       "36. 'Leaf_ZT22_R2_NCA_CR_shd'\n",
       "37. 'Leaf_ZT22_R3_NCA_CS_shd'\n",
       "38. 'Leaf_ZT24_R1_NCA_CW_shd'\n",
       "39. 'Leaf_ZT24_R2_NCA_CX_shd'\n",
       "40. 'Leaf_ZT24_R3_NCA_CY_shd'\n",
       "41. 'Leaf_ZT0_R1_NCA_DC_lgd'\n",
       "42. 'Leaf_ZT0_R2_NCA_DD_lgd'\n",
       "43. 'Leaf_ZT0_R3_NCA_DE_lgd'\n",
       "44. 'Leaf_ZT2_R1_NCA_DF_lgd'\n",
       "45. 'Leaf_ZT2_R2_NCA_DG_lgd'\n",
       "46. 'Leaf_ZT2_R3_NCA_DH_lgd'\n",
       "47. 'Leaf_ZT4_R1_NCA_DI_lgd'\n",
       "48. 'Leaf_ZT4_R2_NCA_DJ_lgd'\n",
       "49. 'Leaf_ZT4_R3_NCA_DK_lgd'\n",
       "50. 'Leaf_ZT6_R1_NCA_DL_lgd'\n",
       "51. 'Leaf_ZT6_R2_NCA_DM_lgd'\n",
       "52. 'Leaf_ZT6_R3_NCA_DN_lgd'\n",
       "53. 'Leaf_ZT8_R1_NCA_DO_lgd'\n",
       "54. 'Leaf_ZT8_R2_NCA_DP_lgd'\n",
       "55. 'Leaf_ZT8_R3_NCA_DQ_lgd'\n",
       "56. 'Leaf_ZT10_R1_NCA_DR_lgd'\n",
       "57. 'Leaf_ZT10_R2_NCA_DS_lgd'\n",
       "58. 'Leaf_ZT10_R3_NCA_DT_lgd'\n",
       "59. 'Leaf_ZT12_R1_NCA_DU_lgd'\n",
       "60. 'Leaf_ZT12_R2_NCA_DV_lgd'\n",
       "61. 'Leaf_ZT12_R3_NCA_DW_lgd'\n",
       "62. 'Leaf_ZT14_R1_NCA_DX_lgd'\n",
       "63. 'Leaf_ZT14_R2_NCA_DY_lgd'\n",
       "64. 'Leaf_ZT14_R3_NCA_DZ_lgd'\n",
       "65. 'Leaf_ZT16_R1_NCA_EA_lgd'\n",
       "66. 'Leaf_ZT16_R2_NCA_EB_lgd'\n",
       "67. 'Leaf_ZT16_R3_NCA_EC_lgd'\n",
       "68. 'Leaf_ZT18_R1_NCA_ED_lgd'\n",
       "69. 'Leaf_ZT18_R2_NCA_EE_lgd'\n",
       "70. 'Leaf_ZT18_R3_NCA_EF_lgd'\n",
       "71. 'Leaf_ZT20_R1_NCA_EG_lgd'\n",
       "72. 'Leaf_ZT20_R2_NCA_EH_lgd'\n",
       "73. 'Leaf_ZT20_R3_NCA_EI_lgd'\n",
       "74. 'Leaf_ZT22_R1_NCA_EJ_lgd'\n",
       "75. 'Leaf_ZT22_R2_NCA_EK_lgd'\n",
       "76. 'Leaf_ZT22_R3_NCA_EL_lgd'\n",
       "77. 'Leaf_ZT24_R1_NCA_EM_lgd'\n",
       "78. 'Leaf_ZT24_R2_NCA_EN_lgd'\n",
       "79. 'Leaf_ZT24_R3_NCA_EO_lgd'\n",
       "\n",
       "\n"
      ],
      "text/plain": [
       " [1] \"geneID\"                  \"Leaf_ZT0_R1_NCA_AA_shd\" \n",
       " [3] \"Leaf_ZT0_R2_NCA_AB_shd\"  \"Leaf_ZT0_R3_NCA_AC_shd\" \n",
       " [5] \"Leaf_ZT2_R1_NCA_AG_shd\"  \"Leaf_ZT2_R2_NCA_AH_shd\" \n",
       " [7] \"Leaf_ZT2_R3_NCA_AI_shd\"  \"Leaf_ZT4_R1_NCA_AM_shd\" \n",
       " [9] \"Leaf_ZT4_R2_NCA_AN_shd\"  \"Leaf_ZT4_R3_NCA_AO_shd\" \n",
       "[11] \"Leaf_ZT6_R1_NCA_AS_shd\"  \"Leaf_ZT6_R2_NCA_AT_shd\" \n",
       "[13] \"Leaf_ZT6_R3_NCA_AU_shd\"  \"Leaf_ZT8_R1_NCA_AY_shd\" \n",
       "[15] \"Leaf_ZT8_R3_NCA_BA_shd\"  \"Leaf_ZT10_R1_NCA_BE_shd\"\n",
       "[17] \"Leaf_ZT10_R2_NCA_BF_shd\" \"Leaf_ZT10_R3_NCA_BG_shd\"\n",
       "[19] \"Leaf_ZT12_R1_NCA_BK_shd\" \"Leaf_ZT12_R2_NCA_BL_shd\"\n",
       "[21] \"Leaf_ZT12_R3_NCA_BM_shd\" \"Leaf_ZT14_R1_NCA_BQ_shd\"\n",
       "[23] \"Leaf_ZT14_R2_NCA_BR_shd\" \"Leaf_ZT14_R3_NCA_BS_shd\"\n",
       "[25] \"Leaf_ZT16_R1_NCA_BW_shd\" \"Leaf_ZT16_R2_NCA_BX_shd\"\n",
       "[27] \"Leaf_ZT16_R3_NCA_BY_shd\" \"Leaf_ZT18_R1_NCA_CC_shd\"\n",
       "[29] \"Leaf_ZT18_R2_NCA_CD_shd\" \"Leaf_ZT18_R3_NCA_CE_shd\"\n",
       "[31] \"Leaf_ZT18_R4_NCA_CF_shd\" \"Leaf_ZT20_R1_NCA_CK_shd\"\n",
       "[33] \"Leaf_ZT20_R2_NCA_CL_shd\" \"Leaf_ZT20_R3_NCA_CM_shd\"\n",
       "[35] \"Leaf_ZT22_R1_NCA_CQ_shd\" \"Leaf_ZT22_R2_NCA_CR_shd\"\n",
       "[37] \"Leaf_ZT22_R3_NCA_CS_shd\" \"Leaf_ZT24_R1_NCA_CW_shd\"\n",
       "[39] \"Leaf_ZT24_R2_NCA_CX_shd\" \"Leaf_ZT24_R3_NCA_CY_shd\"\n",
       "[41] \"Leaf_ZT0_R1_NCA_DC_lgd\"  \"Leaf_ZT0_R2_NCA_DD_lgd\" \n",
       "[43] \"Leaf_ZT0_R3_NCA_DE_lgd\"  \"Leaf_ZT2_R1_NCA_DF_lgd\" \n",
       "[45] \"Leaf_ZT2_R2_NCA_DG_lgd\"  \"Leaf_ZT2_R3_NCA_DH_lgd\" \n",
       "[47] \"Leaf_ZT4_R1_NCA_DI_lgd\"  \"Leaf_ZT4_R2_NCA_DJ_lgd\" \n",
       "[49] \"Leaf_ZT4_R3_NCA_DK_lgd\"  \"Leaf_ZT6_R1_NCA_DL_lgd\" \n",
       "[51] \"Leaf_ZT6_R2_NCA_DM_lgd\"  \"Leaf_ZT6_R3_NCA_DN_lgd\" \n",
       "[53] \"Leaf_ZT8_R1_NCA_DO_lgd\"  \"Leaf_ZT8_R2_NCA_DP_lgd\" \n",
       "[55] \"Leaf_ZT8_R3_NCA_DQ_lgd\"  \"Leaf_ZT10_R1_NCA_DR_lgd\"\n",
       "[57] \"Leaf_ZT10_R2_NCA_DS_lgd\" \"Leaf_ZT10_R3_NCA_DT_lgd\"\n",
       "[59] \"Leaf_ZT12_R1_NCA_DU_lgd\" \"Leaf_ZT12_R2_NCA_DV_lgd\"\n",
       "[61] \"Leaf_ZT12_R3_NCA_DW_lgd\" \"Leaf_ZT14_R1_NCA_DX_lgd\"\n",
       "[63] \"Leaf_ZT14_R2_NCA_DY_lgd\" \"Leaf_ZT14_R3_NCA_DZ_lgd\"\n",
       "[65] \"Leaf_ZT16_R1_NCA_EA_lgd\" \"Leaf_ZT16_R2_NCA_EB_lgd\"\n",
       "[67] \"Leaf_ZT16_R3_NCA_EC_lgd\" \"Leaf_ZT18_R1_NCA_ED_lgd\"\n",
       "[69] \"Leaf_ZT18_R2_NCA_EE_lgd\" \"Leaf_ZT18_R3_NCA_EF_lgd\"\n",
       "[71] \"Leaf_ZT20_R1_NCA_EG_lgd\" \"Leaf_ZT20_R2_NCA_EH_lgd\"\n",
       "[73] \"Leaf_ZT20_R3_NCA_EI_lgd\" \"Leaf_ZT22_R1_NCA_EJ_lgd\"\n",
       "[75] \"Leaf_ZT22_R2_NCA_EK_lgd\" \"Leaf_ZT22_R3_NCA_EL_lgd\"\n",
       "[77] \"Leaf_ZT24_R1_NCA_EM_lgd\" \"Leaf_ZT24_R2_NCA_EN_lgd\"\n",
       "[79] \"Leaf_ZT24_R3_NCA_EO_lgd\""
      ]
     },
     "metadata": {},
     "output_type": "display_data"
    }
   ],
   "source": [
    "colnames(dataframes[[3]])"
   ]
  },
  {
   "cell_type": "code",
   "execution_count": 18,
   "id": "ef79abc8-38f2-4901-b376-5b3ef06f1ca4",
   "metadata": {},
   "outputs": [
    {
     "data": {
      "text/html": [
       "<table class=\"dataframe\">\n",
       "<caption>A tibble: 2 × 8</caption>\n",
       "<thead>\n",
       "\t<tr><th scope=col>geneID</th><th scope=col>Tissue</th><th scope=col>ZT</th><th scope=col>Replicate</th><th scope=col>Sample1</th><th scope=col>Sample2</th><th scope=col>Condition</th><th scope=col>Expression</th></tr>\n",
       "\t<tr><th scope=col>&lt;chr&gt;</th><th scope=col>&lt;chr&gt;</th><th scope=col>&lt;chr&gt;</th><th scope=col>&lt;chr&gt;</th><th scope=col>&lt;chr&gt;</th><th scope=col>&lt;chr&gt;</th><th scope=col>&lt;chr&gt;</th><th scope=col>&lt;dbl&gt;</th></tr>\n",
       "</thead>\n",
       "<tbody>\n",
       "\t<tr><td>Solch.M6.05G010700.1</td><td>Leaf</td><td>ZT0</td><td>R1</td><td>NCM</td><td>AA</td><td>shd</td><td>10.57672</td></tr>\n",
       "\t<tr><td>Solch.M6.05G010700.1</td><td>Leaf</td><td>ZT0</td><td>R2</td><td>NCM</td><td>AB</td><td>shd</td><td>10.37314</td></tr>\n",
       "</tbody>\n",
       "</table>\n"
      ],
      "text/latex": [
       "A tibble: 2 × 8\n",
       "\\begin{tabular}{llllllll}\n",
       " geneID & Tissue & ZT & Replicate & Sample1 & Sample2 & Condition & Expression\\\\\n",
       " <chr> & <chr> & <chr> & <chr> & <chr> & <chr> & <chr> & <dbl>\\\\\n",
       "\\hline\n",
       "\t Solch.M6.05G010700.1 & Leaf & ZT0 & R1 & NCM & AA & shd & 10.57672\\\\\n",
       "\t Solch.M6.05G010700.1 & Leaf & ZT0 & R2 & NCM & AB & shd & 10.37314\\\\\n",
       "\\end{tabular}\n"
      ],
      "text/markdown": [
       "\n",
       "A tibble: 2 × 8\n",
       "\n",
       "| geneID &lt;chr&gt; | Tissue &lt;chr&gt; | ZT &lt;chr&gt; | Replicate &lt;chr&gt; | Sample1 &lt;chr&gt; | Sample2 &lt;chr&gt; | Condition &lt;chr&gt; | Expression &lt;dbl&gt; |\n",
       "|---|---|---|---|---|---|---|---|\n",
       "| Solch.M6.05G010700.1 | Leaf | ZT0 | R1 | NCM | AA | shd | 10.57672 |\n",
       "| Solch.M6.05G010700.1 | Leaf | ZT0 | R2 | NCM | AB | shd | 10.37314 |\n",
       "\n"
      ],
      "text/plain": [
       "  geneID               Tissue ZT  Replicate Sample1 Sample2 Condition\n",
       "1 Solch.M6.05G010700.1 Leaf   ZT0 R1        NCM     AA      shd      \n",
       "2 Solch.M6.05G010700.1 Leaf   ZT0 R2        NCM     AB      shd      \n",
       "  Expression\n",
       "1 10.57672  \n",
       "2 10.37314  "
      ]
     },
     "metadata": {},
     "output_type": "display_data"
    }
   ],
   "source": [
    "\n",
    "\n",
    "dataframes_long<- lapply(seq_along(dataframes), function (i){\n",
    "\n",
    "                        dataframes[[i]] %>% pivot_longer (cols= -c(geneID),\n",
    "                                                            names_to = c('Tissue', 'ZT', \n",
    "                                                                          'Replicate',\n",
    "                                                                          'Sample1',\n",
    "                                                                         'Sample2',\n",
    "                                                                          'Condition'\n",
    "                                                                         ),\n",
    "                                                             names_sep = \"[_]\",\n",
    "                                                           # names_prefix = c('ZT'), #can only be used for one column\n",
    "                                                            #names_transform = list(ZT = as.integer),\n",
    "                                                             values_to = 'Expression' )}\n",
    "                         )\n",
    "\n",
    "                                                                       \n",
    "head(dataframes_long[[1]][1:2,])\n",
    "\n",
    "\n"
   ]
  },
  {
   "cell_type": "code",
   "execution_count": 19,
   "id": "f08f21b0-bba0-4d4a-b9fc-4a13b0162534",
   "metadata": {},
   "outputs": [
    {
     "data": {
      "text/html": [
       "<table class=\"dataframe\">\n",
       "<caption>A tibble: 2 × 8</caption>\n",
       "<thead>\n",
       "\t<tr><th scope=col>geneID</th><th scope=col>Tissue</th><th scope=col>ZT</th><th scope=col>Replicate</th><th scope=col>Sample1</th><th scope=col>Sample2</th><th scope=col>Condition</th><th scope=col>Expression</th></tr>\n",
       "\t<tr><th scope=col>&lt;chr&gt;</th><th scope=col>&lt;chr&gt;</th><th scope=col>&lt;chr&gt;</th><th scope=col>&lt;chr&gt;</th><th scope=col>&lt;chr&gt;</th><th scope=col>&lt;chr&gt;</th><th scope=col>&lt;chr&gt;</th><th scope=col>&lt;dbl&gt;</th></tr>\n",
       "</thead>\n",
       "<tbody>\n",
       "\t<tr><td>Soltu.Atl_v3.04_1G015590.2</td><td>Leaf</td><td>ZT0</td><td>R1</td><td>NCA</td><td>AA</td><td>shd</td><td>10.52359</td></tr>\n",
       "\t<tr><td>Soltu.Atl_v3.04_1G015590.2</td><td>Leaf</td><td>ZT0</td><td>R2</td><td>NCA</td><td>AB</td><td>shd</td><td>10.45528</td></tr>\n",
       "</tbody>\n",
       "</table>\n"
      ],
      "text/latex": [
       "A tibble: 2 × 8\n",
       "\\begin{tabular}{llllllll}\n",
       " geneID & Tissue & ZT & Replicate & Sample1 & Sample2 & Condition & Expression\\\\\n",
       " <chr> & <chr> & <chr> & <chr> & <chr> & <chr> & <chr> & <dbl>\\\\\n",
       "\\hline\n",
       "\t Soltu.Atl\\_v3.04\\_1G015590.2 & Leaf & ZT0 & R1 & NCA & AA & shd & 10.52359\\\\\n",
       "\t Soltu.Atl\\_v3.04\\_1G015590.2 & Leaf & ZT0 & R2 & NCA & AB & shd & 10.45528\\\\\n",
       "\\end{tabular}\n"
      ],
      "text/markdown": [
       "\n",
       "A tibble: 2 × 8\n",
       "\n",
       "| geneID &lt;chr&gt; | Tissue &lt;chr&gt; | ZT &lt;chr&gt; | Replicate &lt;chr&gt; | Sample1 &lt;chr&gt; | Sample2 &lt;chr&gt; | Condition &lt;chr&gt; | Expression &lt;dbl&gt; |\n",
       "|---|---|---|---|---|---|---|---|\n",
       "| Soltu.Atl_v3.04_1G015590.2 | Leaf | ZT0 | R1 | NCA | AA | shd | 10.52359 |\n",
       "| Soltu.Atl_v3.04_1G015590.2 | Leaf | ZT0 | R2 | NCA | AB | shd | 10.45528 |\n",
       "\n"
      ],
      "text/plain": [
       "  geneID                     Tissue ZT  Replicate Sample1 Sample2 Condition\n",
       "1 Soltu.Atl_v3.04_1G015590.2 Leaf   ZT0 R1        NCA     AA      shd      \n",
       "2 Soltu.Atl_v3.04_1G015590.2 Leaf   ZT0 R2        NCA     AB      shd      \n",
       "  Expression\n",
       "1 10.52359  \n",
       "2 10.45528  "
      ]
     },
     "metadata": {},
     "output_type": "display_data"
    }
   ],
   "source": [
    "head(dataframes_long[[3]][1:2,])"
   ]
  },
  {
   "cell_type": "code",
   "execution_count": null,
   "id": "5667eaba-af44-4203-ab35-d5a8c33308fb",
   "metadata": {},
   "outputs": [],
   "source": []
  },
  {
   "cell_type": "markdown",
   "id": "642d7ef0-f332-4b89-bc39-b4173cbfcc9f",
   "metadata": {},
   "source": [
    "## Select only 'expressed' genes and calculate average and standard deviation per time point"
   ]
  },
  {
   "cell_type": "code",
   "execution_count": 26,
   "id": "03d8a1c0-bd5d-44b8-89ec-38aed5c2c671",
   "metadata": {},
   "outputs": [],
   "source": [
    "AvSD_function <- function(df) {\n",
    "                    df %>% group_by(geneID, Tissue, Condition) %>% filter(max(Expression) >= 0)%>%  #Select genes in which at least one sample has \n",
    "                                                                            #rlog >=0\n",
    "                                    ungroup() %>% \n",
    "                                group_by(geneID, ZT, Tissue, Condition) %>%\n",
    "                                 dplyr::summarize (mean_expression = mean(Expression), \n",
    "                                                    std = sd(Expression) ) %>% ungroup()\n",
    "                               }\n"
   ]
  },
  {
   "cell_type": "code",
   "execution_count": 27,
   "id": "83d77a10-a9cf-4887-afc2-d9576a13e30a",
   "metadata": {},
   "outputs": [
    {
     "name": "stderr",
     "output_type": "stream",
     "text": [
      "\u001b[1m\u001b[22m`summarise()` has grouped output by 'geneID', 'ZT', 'Tissue'. You can override\n",
      "using the `.groups` argument.\n",
      "\u001b[1m\u001b[22m`summarise()` has grouped output by 'geneID', 'ZT', 'Tissue'. You can override\n",
      "using the `.groups` argument.\n",
      "\u001b[1m\u001b[22m`summarise()` has grouped output by 'geneID', 'ZT', 'Tissue'. You can override\n",
      "using the `.groups` argument.\n"
     ]
    }
   ],
   "source": [
    "dataframes_AvSd<- lapply(dataframes_long, AvSD_function)"
   ]
  },
  {
   "cell_type": "code",
   "execution_count": 28,
   "id": "eeaa0b0e-9206-4acc-a930-b4b1e9ba195a",
   "metadata": {},
   "outputs": [
    {
     "data": {
      "text/html": [
       "<table class=\"dataframe\">\n",
       "<caption>A tibble: 2 × 6</caption>\n",
       "<thead>\n",
       "\t<tr><th scope=col>geneID</th><th scope=col>ZT</th><th scope=col>Tissue</th><th scope=col>Condition</th><th scope=col>mean_expression</th><th scope=col>std</th></tr>\n",
       "\t<tr><th scope=col>&lt;chr&gt;</th><th scope=col>&lt;chr&gt;</th><th scope=col>&lt;chr&gt;</th><th scope=col>&lt;chr&gt;</th><th scope=col>&lt;dbl&gt;</th><th scope=col>&lt;dbl&gt;</th></tr>\n",
       "</thead>\n",
       "<tbody>\n",
       "\t<tr><td>Soltu.Atl_v3.01_0G000010.1</td><td>ZT0</td><td>Leaf</td><td>lgd</td><td>1.1317273</td><td>0.31389706</td></tr>\n",
       "\t<tr><td>Soltu.Atl_v3.01_0G000010.1</td><td>ZT0</td><td>Leaf</td><td>shd</td><td>0.9914389</td><td>0.01607945</td></tr>\n",
       "</tbody>\n",
       "</table>\n"
      ],
      "text/latex": [
       "A tibble: 2 × 6\n",
       "\\begin{tabular}{llllll}\n",
       " geneID & ZT & Tissue & Condition & mean\\_expression & std\\\\\n",
       " <chr> & <chr> & <chr> & <chr> & <dbl> & <dbl>\\\\\n",
       "\\hline\n",
       "\t Soltu.Atl\\_v3.01\\_0G000010.1 & ZT0 & Leaf & lgd & 1.1317273 & 0.31389706\\\\\n",
       "\t Soltu.Atl\\_v3.01\\_0G000010.1 & ZT0 & Leaf & shd & 0.9914389 & 0.01607945\\\\\n",
       "\\end{tabular}\n"
      ],
      "text/markdown": [
       "\n",
       "A tibble: 2 × 6\n",
       "\n",
       "| geneID &lt;chr&gt; | ZT &lt;chr&gt; | Tissue &lt;chr&gt; | Condition &lt;chr&gt; | mean_expression &lt;dbl&gt; | std &lt;dbl&gt; |\n",
       "|---|---|---|---|---|---|\n",
       "| Soltu.Atl_v3.01_0G000010.1 | ZT0 | Leaf | lgd | 1.1317273 | 0.31389706 |\n",
       "| Soltu.Atl_v3.01_0G000010.1 | ZT0 | Leaf | shd | 0.9914389 | 0.01607945 |\n",
       "\n"
      ],
      "text/plain": [
       "  geneID                     ZT  Tissue Condition mean_expression std       \n",
       "1 Soltu.Atl_v3.01_0G000010.1 ZT0 Leaf   lgd       1.1317273       0.31389706\n",
       "2 Soltu.Atl_v3.01_0G000010.1 ZT0 Leaf   shd       0.9914389       0.01607945"
      ]
     },
     "metadata": {},
     "output_type": "display_data"
    }
   ],
   "source": [
    "head(dataframes_AvSd[[3]][1:2,])"
   ]
  },
  {
   "cell_type": "markdown",
   "id": "6016cd40-b598-4af0-821d-b6a80fa528dd",
   "metadata": {},
   "source": [
    "## Change format (ZT, Condition) and add target_id column without transcript version"
   ]
  },
  {
   "cell_type": "code",
   "execution_count": 29,
   "id": "1fde0462-57b8-4852-af12-f44f42cd6efa",
   "metadata": {},
   "outputs": [],
   "source": [
    "\n",
    "\n",
    "myfunction <- function(df) {\n",
    "                    \n",
    "                    df$ZT<- gsub(\"ZT\", \"\", df$ZT)\n",
    "                  \n",
    "                    df$ZT<- as.numeric(df$ZT)\n",
    "        \n",
    "                  df$Condition<- gsub(\"shd\", \"SD\", df$Condition) \n",
    "                    df$Condition<- gsub(\"lgd\", \"LD\", df$Condition)\n",
    "    \n",
    "    \n",
    "                df$target_id <- lapply(df$geneID,\n",
    "                             function (i){if (str_sub(i,-2,-2) == \".\")\n",
    "                                             { i<- str_sub(i, end = -3)} # i.e. the last character will be -3 position\n",
    "                                          else if ((str_sub(i,-3,-3) == \".\"))\n",
    "                                               { i<- str_sub(i, end = -4)} # i.e. the last character will be -4 position\n",
    "                                        else {i<-i}\n",
    "                                          \n",
    "                                        })\n",
    "                ## NOTE MAKES THE COLLUMN A LIST\n",
    "\n",
    "                df$target_id <- as.character(df$target_id)\n",
    "    \n",
    "              return(df) #this is to return the full dataframe and not just the last function\n",
    "    \n",
    "    }\n",
    "\n",
    "\n"
   ]
  },
  {
   "cell_type": "code",
   "execution_count": 30,
   "id": "80f8dc09-1d73-432d-9848-47bc85320a6c",
   "metadata": {},
   "outputs": [],
   "source": [
    "dataframes_AvSd <- lapply(dataframes_AvSd, myfunction)"
   ]
  },
  {
   "cell_type": "code",
   "execution_count": 31,
   "id": "c5e0278e-695d-43b4-9901-794f85d8ce2f",
   "metadata": {},
   "outputs": [
    {
     "data": {
      "text/html": [
       "<table class=\"dataframe\">\n",
       "<caption>A tibble: 6 × 7</caption>\n",
       "<thead>\n",
       "\t<tr><th scope=col>geneID</th><th scope=col>ZT</th><th scope=col>Tissue</th><th scope=col>Condition</th><th scope=col>mean_expression</th><th scope=col>std</th><th scope=col>target_id</th></tr>\n",
       "\t<tr><th scope=col>&lt;chr&gt;</th><th scope=col>&lt;dbl&gt;</th><th scope=col>&lt;chr&gt;</th><th scope=col>&lt;chr&gt;</th><th scope=col>&lt;dbl&gt;</th><th scope=col>&lt;dbl&gt;</th><th scope=col>&lt;chr&gt;</th></tr>\n",
       "</thead>\n",
       "<tbody>\n",
       "\t<tr><td>Solch.M6.01G000010.3</td><td> 0</td><td>Leaf</td><td>LD</td><td>6.814213</td><td>0.22542011</td><td>Solch.M6.01G000010</td></tr>\n",
       "\t<tr><td>Solch.M6.01G000010.3</td><td> 0</td><td>Leaf</td><td>SD</td><td>6.860834</td><td>0.26774006</td><td>Solch.M6.01G000010</td></tr>\n",
       "\t<tr><td>Solch.M6.01G000010.3</td><td>10</td><td>Leaf</td><td>LD</td><td>6.773047</td><td>0.18581551</td><td>Solch.M6.01G000010</td></tr>\n",
       "\t<tr><td>Solch.M6.01G000010.3</td><td>10</td><td>Leaf</td><td>SD</td><td>6.819131</td><td>0.02382822</td><td>Solch.M6.01G000010</td></tr>\n",
       "\t<tr><td>Solch.M6.01G000010.3</td><td>12</td><td>Leaf</td><td>LD</td><td>6.878922</td><td>0.26990380</td><td>Solch.M6.01G000010</td></tr>\n",
       "\t<tr><td>Solch.M6.01G000010.3</td><td>12</td><td>Leaf</td><td>SD</td><td>6.555714</td><td>0.09369649</td><td>Solch.M6.01G000010</td></tr>\n",
       "</tbody>\n",
       "</table>\n"
      ],
      "text/latex": [
       "A tibble: 6 × 7\n",
       "\\begin{tabular}{lllllll}\n",
       " geneID & ZT & Tissue & Condition & mean\\_expression & std & target\\_id\\\\\n",
       " <chr> & <dbl> & <chr> & <chr> & <dbl> & <dbl> & <chr>\\\\\n",
       "\\hline\n",
       "\t Solch.M6.01G000010.3 &  0 & Leaf & LD & 6.814213 & 0.22542011 & Solch.M6.01G000010\\\\\n",
       "\t Solch.M6.01G000010.3 &  0 & Leaf & SD & 6.860834 & 0.26774006 & Solch.M6.01G000010\\\\\n",
       "\t Solch.M6.01G000010.3 & 10 & Leaf & LD & 6.773047 & 0.18581551 & Solch.M6.01G000010\\\\\n",
       "\t Solch.M6.01G000010.3 & 10 & Leaf & SD & 6.819131 & 0.02382822 & Solch.M6.01G000010\\\\\n",
       "\t Solch.M6.01G000010.3 & 12 & Leaf & LD & 6.878922 & 0.26990380 & Solch.M6.01G000010\\\\\n",
       "\t Solch.M6.01G000010.3 & 12 & Leaf & SD & 6.555714 & 0.09369649 & Solch.M6.01G000010\\\\\n",
       "\\end{tabular}\n"
      ],
      "text/markdown": [
       "\n",
       "A tibble: 6 × 7\n",
       "\n",
       "| geneID &lt;chr&gt; | ZT &lt;dbl&gt; | Tissue &lt;chr&gt; | Condition &lt;chr&gt; | mean_expression &lt;dbl&gt; | std &lt;dbl&gt; | target_id &lt;chr&gt; |\n",
       "|---|---|---|---|---|---|---|\n",
       "| Solch.M6.01G000010.3 |  0 | Leaf | LD | 6.814213 | 0.22542011 | Solch.M6.01G000010 |\n",
       "| Solch.M6.01G000010.3 |  0 | Leaf | SD | 6.860834 | 0.26774006 | Solch.M6.01G000010 |\n",
       "| Solch.M6.01G000010.3 | 10 | Leaf | LD | 6.773047 | 0.18581551 | Solch.M6.01G000010 |\n",
       "| Solch.M6.01G000010.3 | 10 | Leaf | SD | 6.819131 | 0.02382822 | Solch.M6.01G000010 |\n",
       "| Solch.M6.01G000010.3 | 12 | Leaf | LD | 6.878922 | 0.26990380 | Solch.M6.01G000010 |\n",
       "| Solch.M6.01G000010.3 | 12 | Leaf | SD | 6.555714 | 0.09369649 | Solch.M6.01G000010 |\n",
       "\n"
      ],
      "text/plain": [
       "  geneID               ZT Tissue Condition mean_expression std       \n",
       "1 Solch.M6.01G000010.3  0 Leaf   LD        6.814213        0.22542011\n",
       "2 Solch.M6.01G000010.3  0 Leaf   SD        6.860834        0.26774006\n",
       "3 Solch.M6.01G000010.3 10 Leaf   LD        6.773047        0.18581551\n",
       "4 Solch.M6.01G000010.3 10 Leaf   SD        6.819131        0.02382822\n",
       "5 Solch.M6.01G000010.3 12 Leaf   LD        6.878922        0.26990380\n",
       "6 Solch.M6.01G000010.3 12 Leaf   SD        6.555714        0.09369649\n",
       "  target_id         \n",
       "1 Solch.M6.01G000010\n",
       "2 Solch.M6.01G000010\n",
       "3 Solch.M6.01G000010\n",
       "4 Solch.M6.01G000010\n",
       "5 Solch.M6.01G000010\n",
       "6 Solch.M6.01G000010"
      ]
     },
     "metadata": {},
     "output_type": "display_data"
    }
   ],
   "source": [
    "head(dataframes_AvSd[[1]])"
   ]
  },
  {
   "cell_type": "code",
   "execution_count": 32,
   "id": "33663ec9-ef4a-4b15-bab6-37da72949d0e",
   "metadata": {},
   "outputs": [],
   "source": [
    "dataframes_AvSd[[1]]$Genotype <- 'CHC'\n",
    "dataframes_AvSd[[2]]$Genotype <- 'CND'\n",
    "dataframes_AvSd[[3]]$Genotype <- 'ATL'\n",
    "\n"
   ]
  },
  {
   "cell_type": "code",
   "execution_count": 33,
   "id": "3be2e102-564a-40a4-9168-b09a8dc36194",
   "metadata": {},
   "outputs": [
    {
     "data": {
      "text/html": [
       "<table class=\"dataframe\">\n",
       "<caption>A tibble: 6 × 8</caption>\n",
       "<thead>\n",
       "\t<tr><th scope=col>geneID</th><th scope=col>ZT</th><th scope=col>Tissue</th><th scope=col>Condition</th><th scope=col>mean_expression</th><th scope=col>std</th><th scope=col>target_id</th><th scope=col>Genotype</th></tr>\n",
       "\t<tr><th scope=col>&lt;chr&gt;</th><th scope=col>&lt;dbl&gt;</th><th scope=col>&lt;chr&gt;</th><th scope=col>&lt;chr&gt;</th><th scope=col>&lt;dbl&gt;</th><th scope=col>&lt;dbl&gt;</th><th scope=col>&lt;chr&gt;</th><th scope=col>&lt;chr&gt;</th></tr>\n",
       "</thead>\n",
       "<tbody>\n",
       "\t<tr><td>Solch.M6.01G000010.3</td><td> 0</td><td>Leaf</td><td>LD</td><td>6.814213</td><td>0.22542011</td><td>Solch.M6.01G000010</td><td>CHC</td></tr>\n",
       "\t<tr><td>Solch.M6.01G000010.3</td><td> 0</td><td>Leaf</td><td>SD</td><td>6.860834</td><td>0.26774006</td><td>Solch.M6.01G000010</td><td>CHC</td></tr>\n",
       "\t<tr><td>Solch.M6.01G000010.3</td><td>10</td><td>Leaf</td><td>LD</td><td>6.773047</td><td>0.18581551</td><td>Solch.M6.01G000010</td><td>CHC</td></tr>\n",
       "\t<tr><td>Solch.M6.01G000010.3</td><td>10</td><td>Leaf</td><td>SD</td><td>6.819131</td><td>0.02382822</td><td>Solch.M6.01G000010</td><td>CHC</td></tr>\n",
       "\t<tr><td>Solch.M6.01G000010.3</td><td>12</td><td>Leaf</td><td>LD</td><td>6.878922</td><td>0.26990380</td><td>Solch.M6.01G000010</td><td>CHC</td></tr>\n",
       "\t<tr><td>Solch.M6.01G000010.3</td><td>12</td><td>Leaf</td><td>SD</td><td>6.555714</td><td>0.09369649</td><td>Solch.M6.01G000010</td><td>CHC</td></tr>\n",
       "</tbody>\n",
       "</table>\n"
      ],
      "text/latex": [
       "A tibble: 6 × 8\n",
       "\\begin{tabular}{llllllll}\n",
       " geneID & ZT & Tissue & Condition & mean\\_expression & std & target\\_id & Genotype\\\\\n",
       " <chr> & <dbl> & <chr> & <chr> & <dbl> & <dbl> & <chr> & <chr>\\\\\n",
       "\\hline\n",
       "\t Solch.M6.01G000010.3 &  0 & Leaf & LD & 6.814213 & 0.22542011 & Solch.M6.01G000010 & CHC\\\\\n",
       "\t Solch.M6.01G000010.3 &  0 & Leaf & SD & 6.860834 & 0.26774006 & Solch.M6.01G000010 & CHC\\\\\n",
       "\t Solch.M6.01G000010.3 & 10 & Leaf & LD & 6.773047 & 0.18581551 & Solch.M6.01G000010 & CHC\\\\\n",
       "\t Solch.M6.01G000010.3 & 10 & Leaf & SD & 6.819131 & 0.02382822 & Solch.M6.01G000010 & CHC\\\\\n",
       "\t Solch.M6.01G000010.3 & 12 & Leaf & LD & 6.878922 & 0.26990380 & Solch.M6.01G000010 & CHC\\\\\n",
       "\t Solch.M6.01G000010.3 & 12 & Leaf & SD & 6.555714 & 0.09369649 & Solch.M6.01G000010 & CHC\\\\\n",
       "\\end{tabular}\n"
      ],
      "text/markdown": [
       "\n",
       "A tibble: 6 × 8\n",
       "\n",
       "| geneID &lt;chr&gt; | ZT &lt;dbl&gt; | Tissue &lt;chr&gt; | Condition &lt;chr&gt; | mean_expression &lt;dbl&gt; | std &lt;dbl&gt; | target_id &lt;chr&gt; | Genotype &lt;chr&gt; |\n",
       "|---|---|---|---|---|---|---|---|\n",
       "| Solch.M6.01G000010.3 |  0 | Leaf | LD | 6.814213 | 0.22542011 | Solch.M6.01G000010 | CHC |\n",
       "| Solch.M6.01G000010.3 |  0 | Leaf | SD | 6.860834 | 0.26774006 | Solch.M6.01G000010 | CHC |\n",
       "| Solch.M6.01G000010.3 | 10 | Leaf | LD | 6.773047 | 0.18581551 | Solch.M6.01G000010 | CHC |\n",
       "| Solch.M6.01G000010.3 | 10 | Leaf | SD | 6.819131 | 0.02382822 | Solch.M6.01G000010 | CHC |\n",
       "| Solch.M6.01G000010.3 | 12 | Leaf | LD | 6.878922 | 0.26990380 | Solch.M6.01G000010 | CHC |\n",
       "| Solch.M6.01G000010.3 | 12 | Leaf | SD | 6.555714 | 0.09369649 | Solch.M6.01G000010 | CHC |\n",
       "\n"
      ],
      "text/plain": [
       "  geneID               ZT Tissue Condition mean_expression std       \n",
       "1 Solch.M6.01G000010.3  0 Leaf   LD        6.814213        0.22542011\n",
       "2 Solch.M6.01G000010.3  0 Leaf   SD        6.860834        0.26774006\n",
       "3 Solch.M6.01G000010.3 10 Leaf   LD        6.773047        0.18581551\n",
       "4 Solch.M6.01G000010.3 10 Leaf   SD        6.819131        0.02382822\n",
       "5 Solch.M6.01G000010.3 12 Leaf   LD        6.878922        0.26990380\n",
       "6 Solch.M6.01G000010.3 12 Leaf   SD        6.555714        0.09369649\n",
       "  target_id          Genotype\n",
       "1 Solch.M6.01G000010 CHC     \n",
       "2 Solch.M6.01G000010 CHC     \n",
       "3 Solch.M6.01G000010 CHC     \n",
       "4 Solch.M6.01G000010 CHC     \n",
       "5 Solch.M6.01G000010 CHC     \n",
       "6 Solch.M6.01G000010 CHC     "
      ]
     },
     "metadata": {},
     "output_type": "display_data"
    }
   ],
   "source": [
    "head(dataframes_AvSd[[1]])"
   ]
  },
  {
   "cell_type": "code",
   "execution_count": 34,
   "id": "6426d4f5-4235-4543-beca-d7eb4a2eff70",
   "metadata": {},
   "outputs": [
    {
     "data": {
      "text/html": [
       "'/Users/Eva/Dropbox/Potato/RNA-seq_2/RNAseq_analysis/Data/DEseq/combined_files_for_PCA/within_species'"
      ],
      "text/latex": [
       "'/Users/Eva/Dropbox/Potato/RNA-seq\\_2/RNAseq\\_analysis/Data/DEseq/combined\\_files\\_for\\_PCA/within\\_species'"
      ],
      "text/markdown": [
       "'/Users/Eva/Dropbox/Potato/RNA-seq_2/RNAseq_analysis/Data/DEseq/combined_files_for_PCA/within_species'"
      ],
      "text/plain": [
       "[1] \"/Users/Eva/Dropbox/Potato/RNA-seq_2/RNAseq_analysis/Data/DEseq/combined_files_for_PCA/within_species\""
      ]
     },
     "metadata": {},
     "output_type": "display_data"
    }
   ],
   "source": [
    "getwd()"
   ]
  },
  {
   "cell_type": "code",
   "execution_count": 35,
   "id": "15e7611b-567d-487d-8d2a-c84da51facb7",
   "metadata": {},
   "outputs": [],
   "source": [
    "setwd(\"~/Dropbox/Potato/RNA-seq_2/RNAseq_analysis/ATL_CND_M6_comparisons/01_Data_normalization\")\n",
    "\n"
   ]
  },
  {
   "cell_type": "code",
   "execution_count": 36,
   "id": "8e5b37e6-3e50-4317-95b9-d1f6beb6c4d0",
   "metadata": {},
   "outputs": [],
   "source": [
    "export(dataframes_AvSd[[1]],\n",
    "       './Results/CHC_diel_leaf_avsd_expressed.csv', sep = ',')"
   ]
  },
  {
   "cell_type": "code",
   "execution_count": 37,
   "id": "1d586d58-6c2c-4189-bc07-bc78518d2b82",
   "metadata": {},
   "outputs": [],
   "source": [
    "export(dataframes_AvSd[[2]],\n",
    "       './Results/CND_diel_leaf_avsd_expressed.csv', sep = ',')"
   ]
  },
  {
   "cell_type": "code",
   "execution_count": 38,
   "id": "cd7b80e7-e792-45eb-9052-12e1a739f62c",
   "metadata": {},
   "outputs": [],
   "source": [
    "export(dataframes_AvSd[[3]],\n",
    "       './Results/ATL_diel_leaf_avsd_expressed.csv', sep = ',')"
   ]
  },
  {
   "cell_type": "code",
   "execution_count": null,
   "id": "175947b9-b3a5-4ba5-84f3-f51e4086c836",
   "metadata": {},
   "outputs": [],
   "source": []
  }
 ],
 "metadata": {
  "kernelspec": {
   "display_name": "R4b",
   "language": "R",
   "name": "r4b"
  },
  "language_info": {
   "codemirror_mode": "r",
   "file_extension": ".r",
   "mimetype": "text/x-r-source",
   "name": "R",
   "pygments_lexer": "r",
   "version": "4.3.1"
  }
 },
 "nbformat": 4,
 "nbformat_minor": 5
}
